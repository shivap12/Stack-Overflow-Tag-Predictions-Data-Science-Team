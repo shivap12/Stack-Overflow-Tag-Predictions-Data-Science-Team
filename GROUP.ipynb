{
  "nbformat": 4,
  "nbformat_minor": 0,
  "metadata": {
    "accelerator": "GPU",
    "colab": {
      "name": "GROUP.ipynb",
      "provenance": [],
      "collapsed_sections": []
    },
    "kernelspec": {
      "display_name": "Python 3",
      "name": "python3"
    }
  },
  "cells": [
    {
      "cell_type": "code",
      "metadata": {
        "id": "HOyMswXHIBky"
      },
      "source": [
        "import numpy as np\r\n",
        "np.random.seed(seed=11)"
      ],
      "execution_count": 1,
      "outputs": []
    },
    {
      "cell_type": "code",
      "metadata": {
        "colab": {
          "base_uri": "https://localhost:8080/"
        },
        "id": "JqKgBPZCJSk3",
        "outputId": "b4c47e96-4a53-4473-c688-49f28ec1b108"
      },
      "source": [
        "import pandas as pd\r\n",
        "df = pd.read_csv(\"/content/Questions.csv\", engine=\"python\", encoding=\"ISO-8859-1\",error_bad_lines=False)"
      ],
      "execution_count": 3,
      "outputs": [
        {
          "output_type": "stream",
          "text": [
            "Skipping line 20726: unexpected end of data\n"
          ],
          "name": "stderr"
        }
      ]
    },
    {
      "cell_type": "code",
      "metadata": {
        "colab": {
          "base_uri": "https://localhost:8080/",
          "height": 289
        },
        "id": "RKw0PCgOMoX-",
        "outputId": "d98d4761-2a80-4063-c1e5-78b4afec1063"
      },
      "source": [
        "df.head(5)"
      ],
      "execution_count": 4,
      "outputs": [
        {
          "output_type": "execute_result",
          "data": {
            "text/html": [
              "<div>\n",
              "<style scoped>\n",
              "    .dataframe tbody tr th:only-of-type {\n",
              "        vertical-align: middle;\n",
              "    }\n",
              "\n",
              "    .dataframe tbody tr th {\n",
              "        vertical-align: top;\n",
              "    }\n",
              "\n",
              "    .dataframe thead th {\n",
              "        text-align: right;\n",
              "    }\n",
              "</style>\n",
              "<table border=\"1\" class=\"dataframe\">\n",
              "  <thead>\n",
              "    <tr style=\"text-align: right;\">\n",
              "      <th></th>\n",
              "      <th>Id</th>\n",
              "      <th>OwnerUserId</th>\n",
              "      <th>CreationDate</th>\n",
              "      <th>ClosedDate</th>\n",
              "      <th>Score</th>\n",
              "      <th>Title</th>\n",
              "      <th>Body</th>\n",
              "    </tr>\n",
              "  </thead>\n",
              "  <tbody>\n",
              "    <tr>\n",
              "      <th>0</th>\n",
              "      <td>80</td>\n",
              "      <td>26.0</td>\n",
              "      <td>2008-08-01T13:57:07Z</td>\n",
              "      <td>NaN</td>\n",
              "      <td>26</td>\n",
              "      <td>SQLStatement.execute() - multiple queries in o...</td>\n",
              "      <td>&lt;p&gt;I've written a database generation script i...</td>\n",
              "    </tr>\n",
              "    <tr>\n",
              "      <th>1</th>\n",
              "      <td>90</td>\n",
              "      <td>58.0</td>\n",
              "      <td>2008-08-01T14:41:24Z</td>\n",
              "      <td>2012-12-26T03:45:49Z</td>\n",
              "      <td>144</td>\n",
              "      <td>Good branching and merging tutorials for Torto...</td>\n",
              "      <td>&lt;p&gt;Are there any really good tutorials explain...</td>\n",
              "    </tr>\n",
              "    <tr>\n",
              "      <th>2</th>\n",
              "      <td>120</td>\n",
              "      <td>83.0</td>\n",
              "      <td>2008-08-01T15:50:08Z</td>\n",
              "      <td>NaN</td>\n",
              "      <td>21</td>\n",
              "      <td>ASP.NET Site Maps</td>\n",
              "      <td>&lt;p&gt;Has anyone got experience creating &lt;strong&gt;...</td>\n",
              "    </tr>\n",
              "    <tr>\n",
              "      <th>3</th>\n",
              "      <td>180</td>\n",
              "      <td>2089740.0</td>\n",
              "      <td>2008-08-01T18:42:19Z</td>\n",
              "      <td>NaN</td>\n",
              "      <td>53</td>\n",
              "      <td>Function for creating color wheels</td>\n",
              "      <td>&lt;p&gt;This is something I've pseudo-solved many t...</td>\n",
              "    </tr>\n",
              "    <tr>\n",
              "      <th>4</th>\n",
              "      <td>260</td>\n",
              "      <td>91.0</td>\n",
              "      <td>2008-08-01T23:22:08Z</td>\n",
              "      <td>NaN</td>\n",
              "      <td>49</td>\n",
              "      <td>Adding scripting functionality to .NET applica...</td>\n",
              "      <td>&lt;p&gt;I have a little game written in C#. It uses...</td>\n",
              "    </tr>\n",
              "  </tbody>\n",
              "</table>\n",
              "</div>"
            ],
            "text/plain": [
              "    Id  ...                                               Body\n",
              "0   80  ...  <p>I've written a database generation script i...\n",
              "1   90  ...  <p>Are there any really good tutorials explain...\n",
              "2  120  ...  <p>Has anyone got experience creating <strong>...\n",
              "3  180  ...  <p>This is something I've pseudo-solved many t...\n",
              "4  260  ...  <p>I have a little game written in C#. It uses...\n",
              "\n",
              "[5 rows x 7 columns]"
            ]
          },
          "metadata": {
            "tags": []
          },
          "execution_count": 4
        }
      ]
    },
    {
      "cell_type": "code",
      "metadata": {
        "id": "jQYlqKvrPvzr"
      },
      "source": [
        "tags = pd.read_csv(\"/content/Tags.csv\", encoding=\"ISO-8859-1\", dtype={'Tag': str})"
      ],
      "execution_count": 5,
      "outputs": []
    },
    {
      "cell_type": "code",
      "metadata": {
        "id": "rNlKmCjIP7yV"
      },
      "source": [
        "tags['Tag'] = tags['Tag'].astype(str)"
      ],
      "execution_count": 6,
      "outputs": []
    },
    {
      "cell_type": "code",
      "metadata": {
        "id": "hRHGV5sZQDRS"
      },
      "source": [
        "grouped_tags = tags.groupby(\"Id\")['Tag'].apply(lambda tags: ' '.join(tags))"
      ],
      "execution_count": 7,
      "outputs": []
    },
    {
      "cell_type": "code",
      "metadata": {
        "colab": {
          "base_uri": "https://localhost:8080/"
        },
        "id": "aTDzVviQQHJe",
        "outputId": "71ada1ab-8505-41a2-c6f0-9fd003e58041"
      },
      "source": [
        "grouped_tags.head(5)"
      ],
      "execution_count": 8,
      "outputs": [
        {
          "output_type": "execute_result",
          "data": {
            "text/plain": [
              "Id\n",
              "80                            flex actionscript-3 air\n",
              "90       svn tortoisesvn branch branching-and-merging\n",
              "120                               sql asp.net sitemap\n",
              "180    algorithm language-agnostic colors color-space\n",
              "260           c# .net scripting compiler-construction\n",
              "Name: Tag, dtype: object"
            ]
          },
          "metadata": {
            "tags": []
          },
          "execution_count": 8
        }
      ]
    },
    {
      "cell_type": "code",
      "metadata": {
        "colab": {
          "base_uri": "https://localhost:8080/",
          "height": 419
        },
        "id": "kMve5EaqQPAu",
        "outputId": "6b3a50bc-0b91-4c23-a55d-e850c44b240d"
      },
      "source": [
        "grouped_tags.reset_index()"
      ],
      "execution_count": 9,
      "outputs": [
        {
          "output_type": "execute_result",
          "data": {
            "text/html": [
              "<div>\n",
              "<style scoped>\n",
              "    .dataframe tbody tr th:only-of-type {\n",
              "        vertical-align: middle;\n",
              "    }\n",
              "\n",
              "    .dataframe tbody tr th {\n",
              "        vertical-align: top;\n",
              "    }\n",
              "\n",
              "    .dataframe thead th {\n",
              "        text-align: right;\n",
              "    }\n",
              "</style>\n",
              "<table border=\"1\" class=\"dataframe\">\n",
              "  <thead>\n",
              "    <tr style=\"text-align: right;\">\n",
              "      <th></th>\n",
              "      <th>Id</th>\n",
              "      <th>Tag</th>\n",
              "    </tr>\n",
              "  </thead>\n",
              "  <tbody>\n",
              "    <tr>\n",
              "      <th>0</th>\n",
              "      <td>80</td>\n",
              "      <td>flex actionscript-3 air</td>\n",
              "    </tr>\n",
              "    <tr>\n",
              "      <th>1</th>\n",
              "      <td>90</td>\n",
              "      <td>svn tortoisesvn branch branching-and-merging</td>\n",
              "    </tr>\n",
              "    <tr>\n",
              "      <th>2</th>\n",
              "      <td>120</td>\n",
              "      <td>sql asp.net sitemap</td>\n",
              "    </tr>\n",
              "    <tr>\n",
              "      <th>3</th>\n",
              "      <td>180</td>\n",
              "      <td>algorithm language-agnostic colors color-space</td>\n",
              "    </tr>\n",
              "    <tr>\n",
              "      <th>4</th>\n",
              "      <td>260</td>\n",
              "      <td>c# .net scripting compiler-construction</td>\n",
              "    </tr>\n",
              "    <tr>\n",
              "      <th>...</th>\n",
              "      <td>...</td>\n",
              "      <td>...</td>\n",
              "    </tr>\n",
              "    <tr>\n",
              "      <th>22955</th>\n",
              "      <td>1246390</td>\n",
              "      <td>c# outlook</td>\n",
              "    </tr>\n",
              "    <tr>\n",
              "      <th>22956</th>\n",
              "      <td>1246420</td>\n",
              "      <td>iphone cocoa-touch timeout uiwebview</td>\n",
              "    </tr>\n",
              "    <tr>\n",
              "      <th>22957</th>\n",
              "      <td>1246430</td>\n",
              "      <td>soap wcf wcf-binding</td>\n",
              "    </tr>\n",
              "    <tr>\n",
              "      <th>22958</th>\n",
              "      <td>1246450</td>\n",
              "      <td>eclipse jsp</td>\n",
              "    </tr>\n",
              "    <tr>\n",
              "      <th>22959</th>\n",
              "      <td>1246500</td>\n",
              "      <td>delphi</td>\n",
              "    </tr>\n",
              "  </tbody>\n",
              "</table>\n",
              "<p>22960 rows × 2 columns</p>\n",
              "</div>"
            ],
            "text/plain": [
              "            Id                                             Tag\n",
              "0           80                         flex actionscript-3 air\n",
              "1           90    svn tortoisesvn branch branching-and-merging\n",
              "2          120                             sql asp.net sitemap\n",
              "3          180  algorithm language-agnostic colors color-space\n",
              "4          260         c# .net scripting compiler-construction\n",
              "...        ...                                             ...\n",
              "22955  1246390                                      c# outlook\n",
              "22956  1246420            iphone cocoa-touch timeout uiwebview\n",
              "22957  1246430                            soap wcf wcf-binding\n",
              "22958  1246450                                     eclipse jsp\n",
              "22959  1246500                                          delphi\n",
              "\n",
              "[22960 rows x 2 columns]"
            ]
          },
          "metadata": {
            "tags": []
          },
          "execution_count": 9
        }
      ]
    },
    {
      "cell_type": "code",
      "metadata": {
        "id": "sC22IV5_QTqt"
      },
      "source": [
        "grouped_tags_final = pd.DataFrame({'Id':grouped_tags.index, 'Tags':grouped_tags.values})"
      ],
      "execution_count": 10,
      "outputs": []
    },
    {
      "cell_type": "code",
      "metadata": {
        "id": "oGV868fNQYOb"
      },
      "source": [
        "df.drop(columns=['OwnerUserId', 'CreationDate', 'ClosedDate'], inplace=True)"
      ],
      "execution_count": 11,
      "outputs": []
    },
    {
      "cell_type": "code",
      "metadata": {
        "id": "cHJgODFgQctf"
      },
      "source": [
        "df = df.merge(grouped_tags_final, on='Id')"
      ],
      "execution_count": 12,
      "outputs": []
    },
    {
      "cell_type": "code",
      "metadata": {
        "id": "ZXb95FjKQgvW"
      },
      "source": [
        "new_df = df[df['Score']>5]"
      ],
      "execution_count": 13,
      "outputs": []
    },
    {
      "cell_type": "code",
      "metadata": {
        "colab": {
          "base_uri": "https://localhost:8080/"
        },
        "id": "hiAqWAwiQmUL",
        "outputId": "088a54b2-6bce-4ee1-c2c8-8352bfebceca"
      },
      "source": [
        "print('Dupplicate entries: {}'.format(new_df.duplicated().sum()))\r\n",
        "new_df.drop_duplicates(inplace = True)\r\n"
      ],
      "execution_count": 14,
      "outputs": [
        {
          "output_type": "stream",
          "text": [
            "Dupplicate entries: 0\n"
          ],
          "name": "stdout"
        },
        {
          "output_type": "stream",
          "text": [
            "/usr/local/lib/python3.6/dist-packages/ipykernel_launcher.py:2: SettingWithCopyWarning: \n",
            "A value is trying to be set on a copy of a slice from a DataFrame\n",
            "\n",
            "See the caveats in the documentation: https://pandas.pydata.org/pandas-docs/stable/user_guide/indexing.html#returning-a-view-versus-a-copy\n",
            "  \n"
          ],
          "name": "stderr"
        }
      ]
    },
    {
      "cell_type": "code",
      "metadata": {
        "colab": {
          "base_uri": "https://localhost:8080/"
        },
        "id": "0OKZU9VCQrJL",
        "outputId": "6e57049f-98bb-4d56-f059-72e187774513"
      },
      "source": [
        "new_df.drop(columns=['Id', 'Score'], inplace=True)"
      ],
      "execution_count": 15,
      "outputs": [
        {
          "output_type": "stream",
          "text": [
            "/usr/local/lib/python3.6/dist-packages/pandas/core/frame.py:4174: SettingWithCopyWarning: \n",
            "A value is trying to be set on a copy of a slice from a DataFrame\n",
            "\n",
            "See the caveats in the documentation: https://pandas.pydata.org/pandas-docs/stable/user_guide/indexing.html#returning-a-view-versus-a-copy\n",
            "  errors=errors,\n"
          ],
          "name": "stderr"
        }
      ]
    },
    {
      "cell_type": "code",
      "metadata": {
        "colab": {
          "base_uri": "https://localhost:8080/"
        },
        "id": "RpV7afdDSADR",
        "outputId": "2af12b36-96e6-4628-c484-838dd35c6b47"
      },
      "source": [
        "new_df['Tags'] = new_df['Tags'].apply(lambda x: x.split())"
      ],
      "execution_count": 16,
      "outputs": [
        {
          "output_type": "stream",
          "text": [
            "/usr/local/lib/python3.6/dist-packages/ipykernel_launcher.py:1: SettingWithCopyWarning: \n",
            "A value is trying to be set on a copy of a slice from a DataFrame.\n",
            "Try using .loc[row_indexer,col_indexer] = value instead\n",
            "\n",
            "See the caveats in the documentation: https://pandas.pydata.org/pandas-docs/stable/user_guide/indexing.html#returning-a-view-versus-a-copy\n",
            "  \"\"\"Entry point for launching an IPython kernel.\n"
          ],
          "name": "stderr"
        }
      ]
    },
    {
      "cell_type": "code",
      "metadata": {
        "id": "QyX8Y2NySHow"
      },
      "source": [
        "all_tags = [item for sublist in new_df['Tags'].values for item in sublist]"
      ],
      "execution_count": 17,
      "outputs": []
    },
    {
      "cell_type": "code",
      "metadata": {
        "colab": {
          "base_uri": "https://localhost:8080/"
        },
        "id": "0v49RtSRSLV-",
        "outputId": "4afe3f1c-6f5b-4779-d335-abc78fb4e8a6"
      },
      "source": [
        "my_set = set(all_tags)\r\n",
        "unique_tags = list(my_set)\r\n",
        "len(unique_tags)"
      ],
      "execution_count": 18,
      "outputs": [
        {
          "output_type": "execute_result",
          "data": {
            "text/plain": [
              "3438"
            ]
          },
          "metadata": {
            "tags": []
          },
          "execution_count": 18
        }
      ]
    },
    {
      "cell_type": "code",
      "metadata": {
        "id": "QApyb7OtSSC3"
      },
      "source": [
        "import nltk \r\n",
        "flat_list = [item for sublist in new_df['Tags'].values for item in sublist]\r\n",
        "\r\n",
        "keywords = nltk.FreqDist(flat_list)\r\n",
        "\r\n",
        "keywords = nltk.FreqDist(keywords)\r\n",
        "\r\n",
        "frequencies_words = keywords.most_common(100)\r\n",
        "tags_features = [word[0] for word in frequencies_words]"
      ],
      "execution_count": 19,
      "outputs": []
    },
    {
      "cell_type": "code",
      "metadata": {
        "id": "_VXrYiDcSbk2"
      },
      "source": [
        "def most_common(tags):\r\n",
        "    tags_filtered = []\r\n",
        "    for i in range(0, len(tags)):\r\n",
        "        if tags[i] in tags_features:\r\n",
        "            tags_filtered.append(tags[i])\r\n",
        "    return tags_filtered"
      ],
      "execution_count": 20,
      "outputs": []
    },
    {
      "cell_type": "code",
      "metadata": {
        "colab": {
          "base_uri": "https://localhost:8080/"
        },
        "id": "dQw9PW6PS_Qv",
        "outputId": "43facf30-8b8b-40be-983d-ec7d2e25e51e"
      },
      "source": [
        "new_df['Tags'] = new_df['Tags'].apply(lambda x: most_common(x))\r\n",
        "new_df['Tags'] = new_df['Tags'].apply(lambda x: x if len(x)>0 else None)"
      ],
      "execution_count": 21,
      "outputs": [
        {
          "output_type": "stream",
          "text": [
            "/usr/local/lib/python3.6/dist-packages/ipykernel_launcher.py:1: SettingWithCopyWarning: \n",
            "A value is trying to be set on a copy of a slice from a DataFrame.\n",
            "Try using .loc[row_indexer,col_indexer] = value instead\n",
            "\n",
            "See the caveats in the documentation: https://pandas.pydata.org/pandas-docs/stable/user_guide/indexing.html#returning-a-view-versus-a-copy\n",
            "  \"\"\"Entry point for launching an IPython kernel.\n",
            "/usr/local/lib/python3.6/dist-packages/ipykernel_launcher.py:2: SettingWithCopyWarning: \n",
            "A value is trying to be set on a copy of a slice from a DataFrame.\n",
            "Try using .loc[row_indexer,col_indexer] = value instead\n",
            "\n",
            "See the caveats in the documentation: https://pandas.pydata.org/pandas-docs/stable/user_guide/indexing.html#returning-a-view-versus-a-copy\n",
            "  \n"
          ],
          "name": "stderr"
        }
      ]
    },
    {
      "cell_type": "code",
      "metadata": {
        "colab": {
          "base_uri": "https://localhost:8080/"
        },
        "id": "6O-IsG6GTSIb",
        "outputId": "fe7c7bb2-bf03-4bcc-aa23-dae419ffcc15"
      },
      "source": [
        "new_df.dropna(subset=['Tags'], inplace=True)"
      ],
      "execution_count": 22,
      "outputs": [
        {
          "output_type": "stream",
          "text": [
            "/usr/local/lib/python3.6/dist-packages/ipykernel_launcher.py:1: SettingWithCopyWarning: \n",
            "A value is trying to be set on a copy of a slice from a DataFrame\n",
            "\n",
            "See the caveats in the documentation: https://pandas.pydata.org/pandas-docs/stable/user_guide/indexing.html#returning-a-view-versus-a-copy\n",
            "  \"\"\"Entry point for launching an IPython kernel.\n"
          ],
          "name": "stderr"
        }
      ]
    },
    {
      "cell_type": "code",
      "metadata": {
        "colab": {
          "base_uri": "https://localhost:8080/",
          "height": 272
        },
        "id": "h7gylOlJTX1z",
        "outputId": "1126684e-ed9c-4c37-fbd6-4396aff7003d"
      },
      "source": [
        "new_df['Body'] = new_df['Body'].apply(lambda x: BeautifulSoup(x).get_text()) "
      ],
      "execution_count": 23,
      "outputs": [
        {
          "output_type": "error",
          "ename": "NameError",
          "evalue": "ignored",
          "traceback": [
            "\u001b[0;31m---------------------------------------------------------------------------\u001b[0m",
            "\u001b[0;31mNameError\u001b[0m                                 Traceback (most recent call last)",
            "\u001b[0;32m<ipython-input-23-03b507505115>\u001b[0m in \u001b[0;36m<module>\u001b[0;34m()\u001b[0m\n\u001b[0;32m----> 1\u001b[0;31m \u001b[0mnew_df\u001b[0m\u001b[0;34m[\u001b[0m\u001b[0;34m'Body'\u001b[0m\u001b[0;34m]\u001b[0m \u001b[0;34m=\u001b[0m \u001b[0mnew_df\u001b[0m\u001b[0;34m[\u001b[0m\u001b[0;34m'Body'\u001b[0m\u001b[0;34m]\u001b[0m\u001b[0;34m.\u001b[0m\u001b[0mapply\u001b[0m\u001b[0;34m(\u001b[0m\u001b[0;32mlambda\u001b[0m \u001b[0mx\u001b[0m\u001b[0;34m:\u001b[0m \u001b[0mBeautifulSoup\u001b[0m\u001b[0;34m(\u001b[0m\u001b[0mx\u001b[0m\u001b[0;34m)\u001b[0m\u001b[0;34m.\u001b[0m\u001b[0mget_text\u001b[0m\u001b[0;34m(\u001b[0m\u001b[0;34m)\u001b[0m\u001b[0;34m)\u001b[0m\u001b[0;34m\u001b[0m\u001b[0;34m\u001b[0m\u001b[0m\n\u001b[0m",
            "\u001b[0;32m/usr/local/lib/python3.6/dist-packages/pandas/core/series.py\u001b[0m in \u001b[0;36mapply\u001b[0;34m(self, func, convert_dtype, args, **kwds)\u001b[0m\n\u001b[1;32m   4211\u001b[0m             \u001b[0;32melse\u001b[0m\u001b[0;34m:\u001b[0m\u001b[0;34m\u001b[0m\u001b[0;34m\u001b[0m\u001b[0m\n\u001b[1;32m   4212\u001b[0m                 \u001b[0mvalues\u001b[0m \u001b[0;34m=\u001b[0m \u001b[0mself\u001b[0m\u001b[0;34m.\u001b[0m\u001b[0mastype\u001b[0m\u001b[0;34m(\u001b[0m\u001b[0mobject\u001b[0m\u001b[0;34m)\u001b[0m\u001b[0;34m.\u001b[0m\u001b[0m_values\u001b[0m\u001b[0;34m\u001b[0m\u001b[0;34m\u001b[0m\u001b[0m\n\u001b[0;32m-> 4213\u001b[0;31m                 \u001b[0mmapped\u001b[0m \u001b[0;34m=\u001b[0m \u001b[0mlib\u001b[0m\u001b[0;34m.\u001b[0m\u001b[0mmap_infer\u001b[0m\u001b[0;34m(\u001b[0m\u001b[0mvalues\u001b[0m\u001b[0;34m,\u001b[0m \u001b[0mf\u001b[0m\u001b[0;34m,\u001b[0m \u001b[0mconvert\u001b[0m\u001b[0;34m=\u001b[0m\u001b[0mconvert_dtype\u001b[0m\u001b[0;34m)\u001b[0m\u001b[0;34m\u001b[0m\u001b[0;34m\u001b[0m\u001b[0m\n\u001b[0m\u001b[1;32m   4214\u001b[0m \u001b[0;34m\u001b[0m\u001b[0m\n\u001b[1;32m   4215\u001b[0m         \u001b[0;32mif\u001b[0m \u001b[0mlen\u001b[0m\u001b[0;34m(\u001b[0m\u001b[0mmapped\u001b[0m\u001b[0;34m)\u001b[0m \u001b[0;32mand\u001b[0m \u001b[0misinstance\u001b[0m\u001b[0;34m(\u001b[0m\u001b[0mmapped\u001b[0m\u001b[0;34m[\u001b[0m\u001b[0;36m0\u001b[0m\u001b[0;34m]\u001b[0m\u001b[0;34m,\u001b[0m \u001b[0mSeries\u001b[0m\u001b[0;34m)\u001b[0m\u001b[0;34m:\u001b[0m\u001b[0;34m\u001b[0m\u001b[0;34m\u001b[0m\u001b[0m\n",
            "\u001b[0;32mpandas/_libs/lib.pyx\u001b[0m in \u001b[0;36mpandas._libs.lib.map_infer\u001b[0;34m()\u001b[0m\n",
            "\u001b[0;32m<ipython-input-23-03b507505115>\u001b[0m in \u001b[0;36m<lambda>\u001b[0;34m(x)\u001b[0m\n\u001b[0;32m----> 1\u001b[0;31m \u001b[0mnew_df\u001b[0m\u001b[0;34m[\u001b[0m\u001b[0;34m'Body'\u001b[0m\u001b[0;34m]\u001b[0m \u001b[0;34m=\u001b[0m \u001b[0mnew_df\u001b[0m\u001b[0;34m[\u001b[0m\u001b[0;34m'Body'\u001b[0m\u001b[0;34m]\u001b[0m\u001b[0;34m.\u001b[0m\u001b[0mapply\u001b[0m\u001b[0;34m(\u001b[0m\u001b[0;32mlambda\u001b[0m \u001b[0mx\u001b[0m\u001b[0;34m:\u001b[0m \u001b[0mBeautifulSoup\u001b[0m\u001b[0;34m(\u001b[0m\u001b[0mx\u001b[0m\u001b[0;34m)\u001b[0m\u001b[0;34m.\u001b[0m\u001b[0mget_text\u001b[0m\u001b[0;34m(\u001b[0m\u001b[0;34m)\u001b[0m\u001b[0;34m)\u001b[0m\u001b[0;34m\u001b[0m\u001b[0;34m\u001b[0m\u001b[0m\n\u001b[0m",
            "\u001b[0;31mNameError\u001b[0m: name 'BeautifulSoup' is not defined"
          ]
        }
      ]
    },
    {
      "cell_type": "code",
      "metadata": {
        "id": "NikG3ASBThgQ"
      },
      "source": [
        "from bs4 import BeautifulSoup"
      ],
      "execution_count": 24,
      "outputs": []
    },
    {
      "cell_type": "code",
      "metadata": {
        "colab": {
          "base_uri": "https://localhost:8080/"
        },
        "id": "XBWIxGZuToUl",
        "outputId": "ab15e64d-05cc-4d7c-896f-d360584adc4a"
      },
      "source": [
        "!pip install beautifulSoup4"
      ],
      "execution_count": 25,
      "outputs": [
        {
          "output_type": "stream",
          "text": [
            "Requirement already satisfied: beautifulSoup4 in /usr/local/lib/python3.6/dist-packages (4.6.3)\n"
          ],
          "name": "stdout"
        }
      ]
    },
    {
      "cell_type": "code",
      "metadata": {
        "id": "exLINd3GTu93"
      },
      "source": [
        "def clean_text(text):\r\n",
        "    text = text.lower()\r\n",
        "    text = re.sub(r\"what's\", \"what is \", text)\r\n",
        "    text = re.sub(r\"\\'s\", \" \", text)\r\n",
        "    text = re.sub(r\"\\'ve\", \" have \", text)\r\n",
        "    text = re.sub(r\"can't\", \"can not \", text)\r\n",
        "    text = re.sub(r\"n't\", \" not \", text)\r\n",
        "    text = re.sub(r\"i'm\", \"i am \", text)\r\n",
        "    text = re.sub(r\"\\'re\", \" are \", text)\r\n",
        "    text = re.sub(r\"\\'d\", \" would \", text)\r\n",
        "    text = re.sub(r\"\\'ll\", \" will \", text)\r\n",
        "    text = re.sub(r\"\\'scuse\", \" excuse \", text)\r\n",
        "    text = re.sub(r\"\\'\\n\", \" \", text)\r\n",
        "    text = re.sub(r\"\\'\\xa0\", \" \", text)\r\n",
        "    text = re.sub('\\s+', ' ', text)\r\n",
        "    text = text.strip(' ')\r\n",
        "    return text"
      ],
      "execution_count": 26,
      "outputs": []
    },
    {
      "cell_type": "code",
      "metadata": {
        "colab": {
          "base_uri": "https://localhost:8080/"
        },
        "id": "Kor3Re09Wn7p",
        "outputId": "1a9ae7fc-f216-4012-a087-db870641e740"
      },
      "source": [
        "import re\r\n",
        "new_df['Body'] = new_df['Body'].apply(lambda x: clean_text(x)) "
      ],
      "execution_count": 27,
      "outputs": [
        {
          "output_type": "stream",
          "text": [
            "/usr/local/lib/python3.6/dist-packages/ipykernel_launcher.py:2: SettingWithCopyWarning: \n",
            "A value is trying to be set on a copy of a slice from a DataFrame.\n",
            "Try using .loc[row_indexer,col_indexer] = value instead\n",
            "\n",
            "See the caveats in the documentation: https://pandas.pydata.org/pandas-docs/stable/user_guide/indexing.html#returning-a-view-versus-a-copy\n",
            "  \n"
          ],
          "name": "stderr"
        }
      ]
    },
    {
      "cell_type": "code",
      "metadata": {
        "id": "a533bPo5Wxmb"
      },
      "source": [
        "from nltk.tokenize import ToktokTokenizer\r\n",
        "token=ToktokTokenizer()"
      ],
      "execution_count": 28,
      "outputs": []
    },
    {
      "cell_type": "code",
      "metadata": {
        "id": "KHd2WfKCXbT4"
      },
      "source": [
        "punct = '!\"#$%&\\'()*+,./:;<=>?@[\\\\]^_`{|}~'"
      ],
      "execution_count": 29,
      "outputs": []
    },
    {
      "cell_type": "code",
      "metadata": {
        "id": "t1Y9sql9Zrmq"
      },
      "source": [
        "def strip_list_noempty(mylist):\r\n",
        "    newlist = (item.strip() if hasattr(item, 'strip') else item for item in mylist)\r\n",
        "    return [item for item in newlist if item != '']"
      ],
      "execution_count": 30,
      "outputs": []
    },
    {
      "cell_type": "code",
      "metadata": {
        "id": "iFINWWavZ4GM"
      },
      "source": [
        "def clean_punct(text): \r\n",
        "    words=token.tokenize(text)\r\n",
        "    punctuation_filtered = []\r\n",
        "    regex = re.compile('[%s]' % re.escape(punct))\r\n",
        "    remove_punctuation = str.maketrans(' ', ' ', punct)\r\n",
        "    for w in words:\r\n",
        "        if w in tags_features:\r\n",
        "            punctuation_filtered.append(w)\r\n",
        "        else:\r\n",
        "            punctuation_filtered.append(regex.sub('', w))\r\n",
        "  \r\n",
        "    filtered_list = strip_list_noempty(punctuation_filtered)\r\n",
        "        \r\n",
        "    return ' '.join(map(str, filtered_list))"
      ],
      "execution_count": 31,
      "outputs": []
    },
    {
      "cell_type": "code",
      "metadata": {
        "colab": {
          "base_uri": "https://localhost:8080/"
        },
        "id": "USdwi1XAZ_kc",
        "outputId": "9f29cd85-1dfc-4a12-caa9-2b5cc2d12204"
      },
      "source": [
        "new_df['Body'] = new_df['Body'].apply(lambda x: clean_punct(x)) "
      ],
      "execution_count": 32,
      "outputs": [
        {
          "output_type": "stream",
          "text": [
            "/usr/local/lib/python3.6/dist-packages/ipykernel_launcher.py:1: SettingWithCopyWarning: \n",
            "A value is trying to be set on a copy of a slice from a DataFrame.\n",
            "Try using .loc[row_indexer,col_indexer] = value instead\n",
            "\n",
            "See the caveats in the documentation: https://pandas.pydata.org/pandas-docs/stable/user_guide/indexing.html#returning-a-view-versus-a-copy\n",
            "  \"\"\"Entry point for launching an IPython kernel.\n"
          ],
          "name": "stderr"
        }
      ]
    },
    {
      "cell_type": "code",
      "metadata": {
        "colab": {
          "base_uri": "https://localhost:8080/"
        },
        "id": "uIEi0NYJaEJF",
        "outputId": "b9d8f191-9fed-4e09-cd69-fbb830ad7001"
      },
      "source": [
        "from nltk.stem.wordnet import WordNetLemmatizer\r\n",
        "from nltk.corpus import stopwords\r\n",
        "nltk.download(\"stopwords\")\r\n",
        "lemma=WordNetLemmatizer()\r\n",
        "stop_words = set(stopwords.words(\"english\"))"
      ],
      "execution_count": 33,
      "outputs": [
        {
          "output_type": "stream",
          "text": [
            "[nltk_data] Downloading package stopwords to /root/nltk_data...\n",
            "[nltk_data]   Unzipping corpora/stopwords.zip.\n"
          ],
          "name": "stdout"
        }
      ]
    },
    {
      "cell_type": "code",
      "metadata": {
        "id": "ATPerx_iaIFY"
      },
      "source": [
        "def lemitizeWords(text):\r\n",
        "    words=token.tokenize(text)\r\n",
        "    listLemma=[]\r\n",
        "    for w in words:\r\n",
        "        x=lemma.lemmatize(w, pos=\"v\")\r\n",
        "        listLemma.append(x)\r\n",
        "    return ' '.join(map(str, listLemma))\r\n",
        "\r\n",
        "def stopWordsRemove(text):\r\n",
        "    \r\n",
        "     stop_words = set(stopwords.words(\"english\"))\r\n",
        "     words=token.tokenize(text)\r\n",
        "     filtered = [w for w in words if not w in stop_words]\r\n",
        "    \r\n",
        "     return ' '.join(map(str, filtered))\r\n",
        "\r\n",
        "    "
      ],
      "execution_count": 34,
      "outputs": []
    },
    {
      "cell_type": "code",
      "metadata": {
        "colab": {
          "base_uri": "https://localhost:8080/"
        },
        "id": "V89xHOn_cyQe",
        "outputId": "fee8ba20-23e3-424d-a41f-9c39237befb3"
      },
      "source": [
        "nltk.download('wordnet')"
      ],
      "execution_count": 35,
      "outputs": [
        {
          "output_type": "stream",
          "text": [
            "[nltk_data] Downloading package wordnet to /root/nltk_data...\n",
            "[nltk_data]   Unzipping corpora/wordnet.zip.\n"
          ],
          "name": "stdout"
        },
        {
          "output_type": "execute_result",
          "data": {
            "text/plain": [
              "True"
            ]
          },
          "metadata": {
            "tags": []
          },
          "execution_count": 35
        }
      ]
    },
    {
      "cell_type": "code",
      "metadata": {
        "colab": {
          "base_uri": "https://localhost:8080/"
        },
        "id": "rgm-QmjqbiU3",
        "outputId": "ea30d381-9c58-4a82-cb0d-037e20180857"
      },
      "source": [
        "new_df['Body'] = new_df['Body'].apply(lambda x: lemitizeWords(x)) \r\n",
        "new_df['Body'] = new_df['Body'].apply(lambda x: stopWordsRemove(x)) "
      ],
      "execution_count": 36,
      "outputs": [
        {
          "output_type": "stream",
          "text": [
            "/usr/local/lib/python3.6/dist-packages/ipykernel_launcher.py:1: SettingWithCopyWarning: \n",
            "A value is trying to be set on a copy of a slice from a DataFrame.\n",
            "Try using .loc[row_indexer,col_indexer] = value instead\n",
            "\n",
            "See the caveats in the documentation: https://pandas.pydata.org/pandas-docs/stable/user_guide/indexing.html#returning-a-view-versus-a-copy\n",
            "  \"\"\"Entry point for launching an IPython kernel.\n",
            "/usr/local/lib/python3.6/dist-packages/ipykernel_launcher.py:2: SettingWithCopyWarning: \n",
            "A value is trying to be set on a copy of a slice from a DataFrame.\n",
            "Try using .loc[row_indexer,col_indexer] = value instead\n",
            "\n",
            "See the caveats in the documentation: https://pandas.pydata.org/pandas-docs/stable/user_guide/indexing.html#returning-a-view-versus-a-copy\n",
            "  \n"
          ],
          "name": "stderr"
        }
      ]
    },
    {
      "cell_type": "code",
      "metadata": {
        "colab": {
          "base_uri": "https://localhost:8080/"
        },
        "id": "GB2tSq8Hcpon",
        "outputId": "b07d020d-375b-4747-a8ae-d56e88619ca2"
      },
      "source": [
        "new_df['Title'] = new_df['Title'].apply(lambda x: str(x))\r\n",
        "new_df['Title'] = new_df['Title'].apply(lambda x: clean_text(x)) \r\n",
        "new_df['Title'] = new_df['Title'].apply(lambda x: clean_punct(x)) \r\n",
        "new_df['Title'] = new_df['Title'].apply(lambda x: lemitizeWords(x)) \r\n",
        "new_df['Title'] = new_df['Title'].apply(lambda x: stopWordsRemove(x)) "
      ],
      "execution_count": 37,
      "outputs": [
        {
          "output_type": "stream",
          "text": [
            "/usr/local/lib/python3.6/dist-packages/ipykernel_launcher.py:1: SettingWithCopyWarning: \n",
            "A value is trying to be set on a copy of a slice from a DataFrame.\n",
            "Try using .loc[row_indexer,col_indexer] = value instead\n",
            "\n",
            "See the caveats in the documentation: https://pandas.pydata.org/pandas-docs/stable/user_guide/indexing.html#returning-a-view-versus-a-copy\n",
            "  \"\"\"Entry point for launching an IPython kernel.\n",
            "/usr/local/lib/python3.6/dist-packages/ipykernel_launcher.py:2: SettingWithCopyWarning: \n",
            "A value is trying to be set on a copy of a slice from a DataFrame.\n",
            "Try using .loc[row_indexer,col_indexer] = value instead\n",
            "\n",
            "See the caveats in the documentation: https://pandas.pydata.org/pandas-docs/stable/user_guide/indexing.html#returning-a-view-versus-a-copy\n",
            "  \n",
            "/usr/local/lib/python3.6/dist-packages/ipykernel_launcher.py:3: SettingWithCopyWarning: \n",
            "A value is trying to be set on a copy of a slice from a DataFrame.\n",
            "Try using .loc[row_indexer,col_indexer] = value instead\n",
            "\n",
            "See the caveats in the documentation: https://pandas.pydata.org/pandas-docs/stable/user_guide/indexing.html#returning-a-view-versus-a-copy\n",
            "  This is separate from the ipykernel package so we can avoid doing imports until\n",
            "/usr/local/lib/python3.6/dist-packages/ipykernel_launcher.py:4: SettingWithCopyWarning: \n",
            "A value is trying to be set on a copy of a slice from a DataFrame.\n",
            "Try using .loc[row_indexer,col_indexer] = value instead\n",
            "\n",
            "See the caveats in the documentation: https://pandas.pydata.org/pandas-docs/stable/user_guide/indexing.html#returning-a-view-versus-a-copy\n",
            "  after removing the cwd from sys.path.\n",
            "/usr/local/lib/python3.6/dist-packages/ipykernel_launcher.py:5: SettingWithCopyWarning: \n",
            "A value is trying to be set on a copy of a slice from a DataFrame.\n",
            "Try using .loc[row_indexer,col_indexer] = value instead\n",
            "\n",
            "See the caveats in the documentation: https://pandas.pydata.org/pandas-docs/stable/user_guide/indexing.html#returning-a-view-versus-a-copy\n",
            "  \"\"\"\n"
          ],
          "name": "stderr"
        }
      ]
    },
    {
      "cell_type": "code",
      "metadata": {
        "id": "Xc_VDpjBc5Lc"
      },
      "source": [
        "no_topics = 20"
      ],
      "execution_count": 38,
      "outputs": []
    },
    {
      "cell_type": "code",
      "metadata": {
        "id": "zmOkU69Uc_GJ"
      },
      "source": [
        "text = new_df['Body']"
      ],
      "execution_count": 39,
      "outputs": []
    },
    {
      "cell_type": "code",
      "metadata": {
        "id": "I7ZF0t44dCMF"
      },
      "source": [
        "from sklearn.feature_extraction.text import TfidfTransformer\r\n",
        "from sklearn.feature_extraction.text import TfidfVectorizer\r\n",
        "vectorizer_train = TfidfVectorizer(analyzer = 'word',\r\n",
        "                                       min_df=0.0,\r\n",
        "                                       max_df = 1.0,\r\n",
        "                                       strip_accents = None,\r\n",
        "                                       encoding = 'utf-8', \r\n",
        "                                       preprocessor=None,\r\n",
        "                                       token_pattern=r\"(?u)\\S\\S+\", # Need to repeat token pattern\r\n",
        "                                       max_features=1000)"
      ],
      "execution_count": 40,
      "outputs": []
    },
    {
      "cell_type": "code",
      "metadata": {
        "id": "d17uWG-bdGe_"
      },
      "source": [
        "TF_IDF_matrix = vectorizer_train.fit_transform(text)\r\n"
      ],
      "execution_count": 41,
      "outputs": []
    },
    {
      "cell_type": "code",
      "metadata": {
        "id": "nW0FTWT7dRhc"
      },
      "source": [
        "from sklearn.decomposition import LatentDirichletAllocation\r\n",
        "lda = LatentDirichletAllocation(n_components=20, max_iter=5, learning_method='online', learning_offset=50,random_state=11).fit(TF_IDF_matrix)"
      ],
      "execution_count": 42,
      "outputs": []
    },
    {
      "cell_type": "code",
      "metadata": {
        "colab": {
          "base_uri": "https://localhost:8080/"
        },
        "id": "W1Zna3npdZiU",
        "outputId": "df087cbe-8716-4c32-d847-53adfcc60e09"
      },
      "source": [
        "def display_topics(model, feature_names, no_top_words):\r\n",
        "    for topic_idx, topic in enumerate(model.components_):\r\n",
        "        print(\"--------------------------------------------\")\r\n",
        "        print(\"Topic %d:\" % (topic_idx))\r\n",
        "        print(\" \".join([feature_names[i]\r\n",
        "                        for i in topic.argsort()[:-no_top_words - 1:-1]]))\r\n",
        "        print(\"--------------------------------------------\")\r\n",
        "        \r\n",
        "\r\n",
        "no_top_words = 10\r\n",
        "display_topics(lda, vectorizer_train.get_feature_names(), no_top_words)\r\n"
      ],
      "execution_count": 43,
      "outputs": [
        {
          "output_type": "stream",
          "text": [
            "--------------------------------------------\n",
            "Topic 0:\n",
            "table database primary column index columns key oracle sql schema\n",
            "--------------------------------------------\n",
            "--------------------------------------------\n",
            "Topic 1:\n",
            "0000000000000000 addrreturn stack call lock bool process pfor file feature\n",
            "--------------------------------------------\n",
            "--------------------------------------------\n",
            "Topic 2:\n",
            "string convert value pwhat think ip source std address query\n",
            "--------------------------------------------\n",
            "--------------------------------------------\n",
            "Topic 3:\n",
            "useful pwhat wcf web href interface ip service good site\n",
            "--------------------------------------------\n",
            "--------------------------------------------\n",
            "Topic 4:\n",
            "update things key store insert table comment detail null int\n",
            "--------------------------------------------\n",
            "--------------------------------------------\n",
            "Topic 5:\n",
            "business logic domain layer need think file good make code\n",
            "--------------------------------------------\n",
            "--------------------------------------------\n",
            "Topic 6:\n",
            "validation development form software decide post li understand really experience\n",
            "--------------------------------------------\n",
            "--------------------------------------------\n",
            "Topic 7:\n",
            "pwhat difference copy user folder foo code pis field codepre\n",
            "--------------------------------------------\n",
            "--------------------------------------------\n",
            "Topic 8:\n",
            "vector value nofollow visual test rel gt href unit codepre\n",
            "--------------------------------------------\n",
            "--------------------------------------------\n",
            "Topic 9:\n",
            "use pi file would href like code get way know\n",
            "--------------------------------------------\n",
            "--------------------------------------------\n",
            "Topic 10:\n",
            "tool layer build version assembly varchar data file control would\n",
            "--------------------------------------------\n",
            "--------------------------------------------\n",
            "Topic 11:\n",
            "email send call message use extract blockquote address pi occur\n",
            "--------------------------------------------\n",
            "--------------------------------------------\n",
            "Topic 12:\n",
            "cp phow create class function .net parameter refer download file\n",
            "--------------------------------------------\n",
            "--------------------------------------------\n",
            "Topic 13:\n",
            "page control anyone br pi columns wpf code know need\n",
            "--------------------------------------------\n",
            "--------------------------------------------\n",
            "Topic 14:\n",
            "thread javascript 10 sql server one good stop common file\n",
            "--------------------------------------------\n",
            "--------------------------------------------\n",
            "Topic 15:\n",
            "git branch href blockquote pa repository use entire internet choose\n",
            "--------------------------------------------\n",
            "--------------------------------------------\n",
            "Topic 16:\n",
            "lt codepre gt string code pi use return value class\n",
            "--------------------------------------------\n",
            "--------------------------------------------\n",
            "Topic 17:\n",
            "-gt abstract class give use code virtual public python pif\n",
            "--------------------------------------------\n",
            "--------------------------------------------\n",
            "Topic 18:\n",
            "nofollow rel app field talk print href date implement map\n",
            "--------------------------------------------\n",
            "--------------------------------------------\n",
            "Topic 19:\n",
            "expression match regular test source use interface reason java class\n",
            "--------------------------------------------\n"
          ],
          "name": "stdout"
        }
      ]
    },
    {
      "cell_type": "code",
      "metadata": {
        "colab": {
          "base_uri": "https://localhost:8080/"
        },
        "id": "M9bBHZjAeL41",
        "outputId": "fe3617f5-481f-4e93-f32e-d43a214eb576"
      },
      "source": [
        "def display_topics(model, feature_names, no_top_words):\r\n",
        "    for topic_idx, topic in enumerate(model.components_):\r\n",
        "        print(\"--------------------------------------------\")\r\n",
        "        print(\"Topic %d:\" % (topic_idx))\r\n",
        "        print(\" \".join([feature_names[i]\r\n",
        "                        for i in topic.argsort()[:-no_top_words - 1:-1]]))\r\n",
        "        print(\"--------------------------------------------\")\r\n",
        "        \r\n",
        "\r\n",
        "no_top_words = 10\r\n",
        "display_topics(lda, vectorizer_train.get_feature_names(), no_top_words)"
      ],
      "execution_count": 44,
      "outputs": [
        {
          "output_type": "stream",
          "text": [
            "--------------------------------------------\n",
            "Topic 0:\n",
            "table database primary column index columns key oracle sql schema\n",
            "--------------------------------------------\n",
            "--------------------------------------------\n",
            "Topic 1:\n",
            "0000000000000000 addrreturn stack call lock bool process pfor file feature\n",
            "--------------------------------------------\n",
            "--------------------------------------------\n",
            "Topic 2:\n",
            "string convert value pwhat think ip source std address query\n",
            "--------------------------------------------\n",
            "--------------------------------------------\n",
            "Topic 3:\n",
            "useful pwhat wcf web href interface ip service good site\n",
            "--------------------------------------------\n",
            "--------------------------------------------\n",
            "Topic 4:\n",
            "update things key store insert table comment detail null int\n",
            "--------------------------------------------\n",
            "--------------------------------------------\n",
            "Topic 5:\n",
            "business logic domain layer need think file good make code\n",
            "--------------------------------------------\n",
            "--------------------------------------------\n",
            "Topic 6:\n",
            "validation development form software decide post li understand really experience\n",
            "--------------------------------------------\n",
            "--------------------------------------------\n",
            "Topic 7:\n",
            "pwhat difference copy user folder foo code pis field codepre\n",
            "--------------------------------------------\n",
            "--------------------------------------------\n",
            "Topic 8:\n",
            "vector value nofollow visual test rel gt href unit codepre\n",
            "--------------------------------------------\n",
            "--------------------------------------------\n",
            "Topic 9:\n",
            "use pi file would href like code get way know\n",
            "--------------------------------------------\n",
            "--------------------------------------------\n",
            "Topic 10:\n",
            "tool layer build version assembly varchar data file control would\n",
            "--------------------------------------------\n",
            "--------------------------------------------\n",
            "Topic 11:\n",
            "email send call message use extract blockquote address pi occur\n",
            "--------------------------------------------\n",
            "--------------------------------------------\n",
            "Topic 12:\n",
            "cp phow create class function .net parameter refer download file\n",
            "--------------------------------------------\n",
            "--------------------------------------------\n",
            "Topic 13:\n",
            "page control anyone br pi columns wpf code know need\n",
            "--------------------------------------------\n",
            "--------------------------------------------\n",
            "Topic 14:\n",
            "thread javascript 10 sql server one good stop common file\n",
            "--------------------------------------------\n",
            "--------------------------------------------\n",
            "Topic 15:\n",
            "git branch href blockquote pa repository use entire internet choose\n",
            "--------------------------------------------\n",
            "--------------------------------------------\n",
            "Topic 16:\n",
            "lt codepre gt string code pi use return value class\n",
            "--------------------------------------------\n",
            "--------------------------------------------\n",
            "Topic 17:\n",
            "-gt abstract class give use code virtual public python pif\n",
            "--------------------------------------------\n",
            "--------------------------------------------\n",
            "Topic 18:\n",
            "nofollow rel app field talk print href date implement map\n",
            "--------------------------------------------\n",
            "--------------------------------------------\n",
            "Topic 19:\n",
            "expression match regular test source use interface reason java class\n",
            "--------------------------------------------\n"
          ],
          "name": "stdout"
        }
      ]
    },
    {
      "cell_type": "code",
      "metadata": {
        "id": "fuyfGoDRfqiY"
      },
      "source": [
        "X1 = new_df['Body']\r\n",
        "X2 = new_df['Title']\r\n",
        "y = new_df['Tags']"
      ],
      "execution_count": 45,
      "outputs": []
    },
    {
      "cell_type": "code",
      "metadata": {
        "id": "QBTyZTKzhKkz"
      },
      "source": [
        "from sklearn.preprocessing import MultiLabelBinarizer\r\n",
        "multilabel_binarizer = MultiLabelBinarizer()\r\n",
        "y_bin = multilabel_binarizer.fit_transform(y)"
      ],
      "execution_count": 46,
      "outputs": []
    },
    {
      "cell_type": "code",
      "metadata": {
        "id": "AIRgKLb3hOS-"
      },
      "source": [
        "vectorizer_X1 = TfidfVectorizer(analyzer = 'word',\r\n",
        "                                       min_df=0.0,\r\n",
        "                                       max_df = 1.0,\r\n",
        "                                       strip_accents = None,\r\n",
        "                                       encoding = 'utf-8', \r\n",
        "                                       preprocessor=None,\r\n",
        "                                       token_pattern=r\"(?u)\\S\\S+\",\r\n",
        "                                       max_features=1000)\r\n",
        "\r\n",
        "vectorizer_X2 = TfidfVectorizer(analyzer = 'word',\r\n",
        "                                       min_df=0.0,\r\n",
        "                                       max_df = 1.0,\r\n",
        "                                       strip_accents = None,\r\n",
        "                                       encoding = 'utf-8', \r\n",
        "                                       preprocessor=None,\r\n",
        "                                       token_pattern=r\"(?u)\\S\\S+\",\r\n",
        "                                       max_features=1000)"
      ],
      "execution_count": 47,
      "outputs": []
    },
    {
      "cell_type": "code",
      "metadata": {
        "id": "Qk0BLhmChZoj"
      },
      "source": [
        "X1_tfidf = vectorizer_X1.fit_transform(X1)\r\n",
        "X2_tfidf = vectorizer_X2.fit_transform(X2)"
      ],
      "execution_count": 48,
      "outputs": []
    },
    {
      "cell_type": "code",
      "metadata": {
        "id": "qlDLcVlahcz1"
      },
      "source": [
        "from sklearn.preprocessing import MultiLabelBinarizer\r\n",
        "multilabel_binarizer = MultiLabelBinarizer()\r\n",
        "y_binarizer = multilabel_binarizer.fit_transform(y)"
      ],
      "execution_count": 49,
      "outputs": []
    },
    {
      "cell_type": "code",
      "metadata": {
        "id": "BLRspE6Rhj0K"
      },
      "source": [
        "import scipy.sparse\r\n",
        "import numpy\r\n",
        "from scipy.sparse import csr_matrix\r\n",
        "X_tfidf = scipy.sparse.hstack((X1_tfidf,X2_tfidf))"
      ],
      "execution_count": 50,
      "outputs": []
    },
    {
      "cell_type": "code",
      "metadata": {
        "id": "fCJVAdoIhrnI"
      },
      "source": [
        "from sklearn.model_selection import train_test_split\r\n",
        "X_train, X_test, y_train, y_test = train_test_split(X_tfidf, y_binarizer, test_size = 0.2, random_state = 0) "
      ],
      "execution_count": 51,
      "outputs": []
    },
    {
      "cell_type": "code",
      "metadata": {
        "id": "ZlIDDp16hvI5"
      },
      "source": [
        "param_grid = {'estimator__C':[1,10,100,1000]}"
      ],
      "execution_count": 52,
      "outputs": []
    },
    {
      "cell_type": "code",
      "metadata": {
        "id": "IJj532HrhyO1"
      },
      "source": [
        "from sklearn.multiclass import OneVsRestClassifier\r\n",
        "from sklearn.svm import LinearSVC\r\n",
        "from sklearn.model_selection import GridSearchCV"
      ],
      "execution_count": 53,
      "outputs": []
    },
    {
      "cell_type": "code",
      "metadata": {
        "id": "IN1E7KA8h078"
      },
      "source": [
        "def avg_jacard(y_true,y_pred):\r\n",
        "    '''\r\n",
        "    see https://en.wikipedia.org/wiki/Multi-label_classification#Statistics_and_evaluation_metrics\r\n",
        "    '''\r\n",
        "    jacard = np.minimum(y_true,y_pred).sum(axis=1) / np.maximum(y_true,y_pred).sum(axis=1)\r\n",
        "    \r\n",
        "    return jacard.mean()*100\r\n",
        "def hamming_loss(y_true, y_pred, normalize=True, sample_weight=None):\r\n",
        "    acc_list = []\r\n",
        "    for i in range(y_true.shape[0]):\r\n",
        "        set_true = set( np.where(y_true[i])[0] )\r\n",
        "        set_pred = set( np.where(y_pred[i])[0] )\r\n",
        "        tmp_a = None\r\n",
        "        if len(set_true) == 0 and len(set_pred) == 0:\r\n",
        "            tmp_a = 1 \r\n",
        "        else:\r\n",
        "            tmp_a = len(set_true.intersection(set_pred))/float(len(set_true.union(set_pred)))\r\n",
        "        acc_list.append(tmp_a)\r\n",
        "    \r\n",
        "    return np.mean(acc_list)\r\n",
        "\r\n",
        "def print_score(y_pred, clf):\r\n",
        "    print(\"Clf: \", clf.__class__.__name__)\r\n",
        "    print(\"Jacard score: {}\".format(avg_jacard(y_test, y_pred)))\r\n",
        "    print(\"Hamming loss: {}\".format(hamming_loss(y_pred, y_test)*100))\r\n",
        "    print(\"---\")    \r\n",
        "          "
      ],
      "execution_count": 65,
      "outputs": []
    },
    {
      "cell_type": "code",
      "metadata": {
        "colab": {
          "base_uri": "https://localhost:8080/"
        },
        "id": "0pu2nz0riCVG",
        "outputId": "99ec7181-2739-4171-c9c5-bc7495f90530"
      },
      "source": [
        "from sklearn.neural_network import MLPClassifier\r\n",
        "mlpc = MLPClassifier()\r\n",
        "mlpc.fit(X_train, y_train)\r\n",
        "\r\n",
        "y_pred = mlpc.predict(X_test)\r\n",
        "\r\n",
        "print_score(y_pred, mlpc)\r\n"
      ],
      "execution_count": 66,
      "outputs": [
        {
          "output_type": "stream",
          "text": [
            "Clf:  MLPClassifier\n",
            "Jacard score: 41.676991150442475\n",
            "Hamming loss: 41.676991150442475\n",
            "---\n"
          ],
          "name": "stdout"
        },
        {
          "output_type": "stream",
          "text": [
            "/usr/local/lib/python3.6/dist-packages/sklearn/neural_network/_multilayer_perceptron.py:571: ConvergenceWarning: Stochastic Optimizer: Maximum iterations (200) reached and the optimization hasn't converged yet.\n",
            "  % self.max_iter, ConvergenceWarning)\n"
          ],
          "name": "stderr"
        }
      ]
    },
    {
      "cell_type": "code",
      "metadata": {
        "id": "CAb-X-4UiKgX",
        "colab": {
          "base_uri": "https://localhost:8080/"
        },
        "outputId": "bd5aa127-2f07-4ba9-fca9-81e8f37a8826"
      },
      "source": [
        "from sklearn.ensemble import RandomForestClassifier\r\n",
        "rfc = RandomForestClassifier()\r\n",
        "rfc.fit(X_train, y_train)\r\n",
        "y_pred = rfc.predict(X_test)\r\n",
        "\r\n",
        "print_score(y_pred, rfc)"
      ],
      "execution_count": 68,
      "outputs": [
        {
          "output_type": "stream",
          "text": [
            "Clf:  RandomForestClassifier\n",
            "Jacard score: 37.6622418879056\n",
            "Hamming loss: 37.6622418879056\n",
            "---\n"
          ],
          "name": "stdout"
        }
      ]
    },
    {
      "cell_type": "code",
      "metadata": {
        "id": "mrCh9BDhlo7v"
      },
      "source": [
        "class Perceptron(object):\r\n",
        "\r\n",
        "    def __init__(self, eta=0.01, n_iter=10):\r\n",
        "        self.eta=eta\r\n",
        "        self.n_iter=n_iter\r\n",
        "\r\n",
        "\r\n",
        "    def fit(self, X, y):\r\n",
        "        self.w_=np.zeros(1+X.shape[1])\r\n",
        "        self.errors_ = []\r\n",
        "\r\n",
        "        for _ in range(self.n_iter):\r\n",
        "            errors =0\r\n",
        "            for xi,target in zip(X,y):\r\n",
        "                update = self.eta * (target - self.predict(xi))\r\n",
        "                self.w_[1:] += update * xi\r\n",
        "                self.w_[0] += update\r\n",
        "                errors += int(update != 0.0)\r\n",
        "            self.errors_.append(errors)\r\n",
        "        return self\r\n",
        "    def net_input(self, X):\r\n",
        "        \"\"\"Calculate net input\"\"\"\r\n",
        "        return np.dot(X, self.w_[1:]) + self.w_[0]\r\n",
        "\r\n",
        "    def predict(self, X):\r\n",
        "        \"\"\"Return class label after unit step\"\"\"\r\n",
        "        return np.where(self.net_input(X) >= 0.0, 1, -1)"
      ],
      "execution_count": 98,
      "outputs": []
    },
    {
      "cell_type": "code",
      "metadata": {
        "colab": {
          "base_uri": "https://localhost:8080/",
          "height": 394
        },
        "id": "JNs6xAV_il1p",
        "outputId": "669cf908-2709-40e7-e50e-4506b1e2bbe0"
      },
      "source": [
        "from sklearn.dummy import DummyClassifier\r\n",
        "from sklearn.linear_model import SGDClassifier\r\n",
        "from sklearn.linear_model import LogisticRegression\r\n",
        "from sklearn.naive_bayes import MultinomialNB\r\n",
        "from sklearn.linear_model import PassiveAggressiveClassifier\r\n",
        "from sklearn.linear_model import Perceptron\r\n",
        "dummy = DummyClassifier()\r\n",
        "sgd = SGDClassifier()\r\n",
        "lr = LogisticRegression()\r\n",
        "mn = MultinomialNB()\r\n",
        "svc = LinearSVC()\r\n",
        "perceptron = Perceptron()\r\n",
        "pac = PassiveAggressiveClassifier()\r\n",
        "\r\n",
        "for classifier in [dummy, sgd, lr, mn, svc, perceptron, pac]:\r\n",
        "    clf = OneVsRestClassifier(classifier)\r\n",
        "    clf.fit(X_train, y_train)"
      ],
      "execution_count": 101,
      "outputs": [
        {
          "output_type": "stream",
          "text": [
            "/usr/local/lib/python3.6/dist-packages/sklearn/dummy.py:132: FutureWarning: The default value of strategy will change from stratified to prior in 0.24.\n",
            "  y = y.toarray()\n"
          ],
          "name": "stderr"
        },
        {
          "output_type": "error",
          "ename": "AttributeError",
          "evalue": "ignored",
          "traceback": [
            "\u001b[0;31m---------------------------------------------------------------------------\u001b[0m",
            "\u001b[0;31mAttributeError\u001b[0m                            Traceback (most recent call last)",
            "\u001b[0;32m<ipython-input-101-673b0b1876c0>\u001b[0m in \u001b[0;36m<module>\u001b[0;34m()\u001b[0m\n\u001b[1;32m     15\u001b[0m \u001b[0;32mfor\u001b[0m \u001b[0mclassifier\u001b[0m \u001b[0;32min\u001b[0m \u001b[0;34m[\u001b[0m\u001b[0mdummy\u001b[0m\u001b[0;34m,\u001b[0m \u001b[0msgd\u001b[0m\u001b[0;34m,\u001b[0m \u001b[0mlr\u001b[0m\u001b[0;34m,\u001b[0m \u001b[0mmn\u001b[0m\u001b[0;34m,\u001b[0m \u001b[0msvc\u001b[0m\u001b[0;34m,\u001b[0m \u001b[0mperceptron\u001b[0m\u001b[0;34m,\u001b[0m \u001b[0mpac\u001b[0m\u001b[0;34m]\u001b[0m\u001b[0;34m:\u001b[0m\u001b[0;34m\u001b[0m\u001b[0;34m\u001b[0m\u001b[0m\n\u001b[1;32m     16\u001b[0m     \u001b[0mclf\u001b[0m \u001b[0;34m=\u001b[0m \u001b[0mOneVsRestClassifier\u001b[0m\u001b[0;34m(\u001b[0m\u001b[0mclassifier\u001b[0m\u001b[0;34m)\u001b[0m\u001b[0;34m\u001b[0m\u001b[0;34m\u001b[0m\u001b[0m\n\u001b[0;32m---> 17\u001b[0;31m     \u001b[0mclf\u001b[0m\u001b[0;34m.\u001b[0m\u001b[0mfit\u001b[0m\u001b[0;34m(\u001b[0m\u001b[0mX_train\u001b[0m\u001b[0;34m,\u001b[0m \u001b[0my_train\u001b[0m\u001b[0;34m)\u001b[0m\u001b[0;34m\u001b[0m\u001b[0;34m\u001b[0m\u001b[0m\n\u001b[0m",
            "\u001b[0;32m/usr/local/lib/python3.6/dist-packages/sklearn/multiclass.py\u001b[0m in \u001b[0;36mfit\u001b[0;34m(self, X, y)\u001b[0m\n\u001b[1;32m    237\u001b[0m     \u001b[0;34m>>\u001b[0m\u001b[0;34m>\u001b[0m \u001b[0mclf\u001b[0m \u001b[0;34m=\u001b[0m \u001b[0mOneVsRestClassifier\u001b[0m\u001b[0;34m(\u001b[0m\u001b[0mSVC\u001b[0m\u001b[0;34m(\u001b[0m\u001b[0;34m)\u001b[0m\u001b[0;34m)\u001b[0m\u001b[0;34m.\u001b[0m\u001b[0mfit\u001b[0m\u001b[0;34m(\u001b[0m\u001b[0mX\u001b[0m\u001b[0;34m,\u001b[0m \u001b[0my\u001b[0m\u001b[0;34m)\u001b[0m\u001b[0;34m\u001b[0m\u001b[0;34m\u001b[0m\u001b[0m\n\u001b[1;32m    238\u001b[0m     \u001b[0;34m>>\u001b[0m\u001b[0;34m>\u001b[0m \u001b[0mclf\u001b[0m\u001b[0;34m.\u001b[0m\u001b[0mpredict\u001b[0m\u001b[0;34m(\u001b[0m\u001b[0;34m[\u001b[0m\u001b[0;34m[\u001b[0m\u001b[0;34m-\u001b[0m\u001b[0;36m19\u001b[0m\u001b[0;34m,\u001b[0m \u001b[0;34m-\u001b[0m\u001b[0;36m20\u001b[0m\u001b[0;34m]\u001b[0m\u001b[0;34m,\u001b[0m \u001b[0;34m[\u001b[0m\u001b[0;36m9\u001b[0m\u001b[0;34m,\u001b[0m \u001b[0;36m9\u001b[0m\u001b[0;34m]\u001b[0m\u001b[0;34m,\u001b[0m \u001b[0;34m[\u001b[0m\u001b[0;34m-\u001b[0m\u001b[0;36m5\u001b[0m\u001b[0;34m,\u001b[0m \u001b[0;36m5\u001b[0m\u001b[0;34m]\u001b[0m\u001b[0;34m]\u001b[0m\u001b[0;34m)\u001b[0m\u001b[0;34m\u001b[0m\u001b[0;34m\u001b[0m\u001b[0m\n\u001b[0;32m--> 239\u001b[0;31m     \u001b[0marray\u001b[0m\u001b[0;34m(\u001b[0m\u001b[0;34m[\u001b[0m\u001b[0;36m2\u001b[0m\u001b[0;34m,\u001b[0m \u001b[0;36m0\u001b[0m\u001b[0;34m,\u001b[0m \u001b[0;36m1\u001b[0m\u001b[0;34m]\u001b[0m\u001b[0;34m)\u001b[0m\u001b[0;34m\u001b[0m\u001b[0;34m\u001b[0m\u001b[0m\n\u001b[0m\u001b[1;32m    240\u001b[0m \u001b[0;34m\u001b[0m\u001b[0m\n\u001b[1;32m    241\u001b[0m     \u001b[0mSee\u001b[0m \u001b[0mAlso\u001b[0m\u001b[0;34m\u001b[0m\u001b[0;34m\u001b[0m\u001b[0m\n",
            "\u001b[0;32m/usr/local/lib/python3.6/dist-packages/joblib/parallel.py\u001b[0m in \u001b[0;36m__call__\u001b[0;34m(self, iterable)\u001b[0m\n\u001b[1;32m   1039\u001b[0m             \u001b[0;31m# remaining jobs.\u001b[0m\u001b[0;34m\u001b[0m\u001b[0;34m\u001b[0m\u001b[0;34m\u001b[0m\u001b[0m\n\u001b[1;32m   1040\u001b[0m             \u001b[0mself\u001b[0m\u001b[0;34m.\u001b[0m\u001b[0m_iterating\u001b[0m \u001b[0;34m=\u001b[0m \u001b[0;32mFalse\u001b[0m\u001b[0;34m\u001b[0m\u001b[0;34m\u001b[0m\u001b[0m\n\u001b[0;32m-> 1041\u001b[0;31m             \u001b[0;32mif\u001b[0m \u001b[0mself\u001b[0m\u001b[0;34m.\u001b[0m\u001b[0mdispatch_one_batch\u001b[0m\u001b[0;34m(\u001b[0m\u001b[0miterator\u001b[0m\u001b[0;34m)\u001b[0m\u001b[0;34m:\u001b[0m\u001b[0;34m\u001b[0m\u001b[0;34m\u001b[0m\u001b[0m\n\u001b[0m\u001b[1;32m   1042\u001b[0m                 \u001b[0mself\u001b[0m\u001b[0;34m.\u001b[0m\u001b[0m_iterating\u001b[0m \u001b[0;34m=\u001b[0m \u001b[0mself\u001b[0m\u001b[0;34m.\u001b[0m\u001b[0m_original_iterator\u001b[0m \u001b[0;32mis\u001b[0m \u001b[0;32mnot\u001b[0m \u001b[0;32mNone\u001b[0m\u001b[0;34m\u001b[0m\u001b[0;34m\u001b[0m\u001b[0m\n\u001b[1;32m   1043\u001b[0m \u001b[0;34m\u001b[0m\u001b[0m\n",
            "\u001b[0;32m/usr/local/lib/python3.6/dist-packages/joblib/parallel.py\u001b[0m in \u001b[0;36mdispatch_one_batch\u001b[0;34m(self, iterator)\u001b[0m\n\u001b[1;32m    857\u001b[0m                 \u001b[0;32mreturn\u001b[0m \u001b[0;32mFalse\u001b[0m\u001b[0;34m\u001b[0m\u001b[0;34m\u001b[0m\u001b[0m\n\u001b[1;32m    858\u001b[0m             \u001b[0;32melse\u001b[0m\u001b[0;34m:\u001b[0m\u001b[0;34m\u001b[0m\u001b[0;34m\u001b[0m\u001b[0m\n\u001b[0;32m--> 859\u001b[0;31m                 \u001b[0mself\u001b[0m\u001b[0;34m.\u001b[0m\u001b[0m_dispatch\u001b[0m\u001b[0;34m(\u001b[0m\u001b[0mtasks\u001b[0m\u001b[0;34m)\u001b[0m\u001b[0;34m\u001b[0m\u001b[0;34m\u001b[0m\u001b[0m\n\u001b[0m\u001b[1;32m    860\u001b[0m                 \u001b[0;32mreturn\u001b[0m \u001b[0;32mTrue\u001b[0m\u001b[0;34m\u001b[0m\u001b[0;34m\u001b[0m\u001b[0m\n\u001b[1;32m    861\u001b[0m \u001b[0;34m\u001b[0m\u001b[0m\n",
            "\u001b[0;32m/usr/local/lib/python3.6/dist-packages/joblib/parallel.py\u001b[0m in \u001b[0;36m_dispatch\u001b[0;34m(self, batch)\u001b[0m\n\u001b[1;32m    775\u001b[0m         \u001b[0;32mwith\u001b[0m \u001b[0mself\u001b[0m\u001b[0;34m.\u001b[0m\u001b[0m_lock\u001b[0m\u001b[0;34m:\u001b[0m\u001b[0;34m\u001b[0m\u001b[0;34m\u001b[0m\u001b[0m\n\u001b[1;32m    776\u001b[0m             \u001b[0mjob_idx\u001b[0m \u001b[0;34m=\u001b[0m \u001b[0mlen\u001b[0m\u001b[0;34m(\u001b[0m\u001b[0mself\u001b[0m\u001b[0;34m.\u001b[0m\u001b[0m_jobs\u001b[0m\u001b[0;34m)\u001b[0m\u001b[0;34m\u001b[0m\u001b[0;34m\u001b[0m\u001b[0m\n\u001b[0;32m--> 777\u001b[0;31m             \u001b[0mjob\u001b[0m \u001b[0;34m=\u001b[0m \u001b[0mself\u001b[0m\u001b[0;34m.\u001b[0m\u001b[0m_backend\u001b[0m\u001b[0;34m.\u001b[0m\u001b[0mapply_async\u001b[0m\u001b[0;34m(\u001b[0m\u001b[0mbatch\u001b[0m\u001b[0;34m,\u001b[0m \u001b[0mcallback\u001b[0m\u001b[0;34m=\u001b[0m\u001b[0mcb\u001b[0m\u001b[0;34m)\u001b[0m\u001b[0;34m\u001b[0m\u001b[0;34m\u001b[0m\u001b[0m\n\u001b[0m\u001b[1;32m    778\u001b[0m             \u001b[0;31m# A job can complete so quickly than its callback is\u001b[0m\u001b[0;34m\u001b[0m\u001b[0;34m\u001b[0m\u001b[0;34m\u001b[0m\u001b[0m\n\u001b[1;32m    779\u001b[0m             \u001b[0;31m# called before we get here, causing self._jobs to\u001b[0m\u001b[0;34m\u001b[0m\u001b[0;34m\u001b[0m\u001b[0;34m\u001b[0m\u001b[0m\n",
            "\u001b[0;32m/usr/local/lib/python3.6/dist-packages/joblib/_parallel_backends.py\u001b[0m in \u001b[0;36mapply_async\u001b[0;34m(self, func, callback)\u001b[0m\n\u001b[1;32m    206\u001b[0m     \u001b[0;32mdef\u001b[0m \u001b[0mapply_async\u001b[0m\u001b[0;34m(\u001b[0m\u001b[0mself\u001b[0m\u001b[0;34m,\u001b[0m \u001b[0mfunc\u001b[0m\u001b[0;34m,\u001b[0m \u001b[0mcallback\u001b[0m\u001b[0;34m=\u001b[0m\u001b[0;32mNone\u001b[0m\u001b[0;34m)\u001b[0m\u001b[0;34m:\u001b[0m\u001b[0;34m\u001b[0m\u001b[0;34m\u001b[0m\u001b[0m\n\u001b[1;32m    207\u001b[0m         \u001b[0;34m\"\"\"Schedule a func to be run\"\"\"\u001b[0m\u001b[0;34m\u001b[0m\u001b[0;34m\u001b[0m\u001b[0m\n\u001b[0;32m--> 208\u001b[0;31m         \u001b[0mresult\u001b[0m \u001b[0;34m=\u001b[0m \u001b[0mImmediateResult\u001b[0m\u001b[0;34m(\u001b[0m\u001b[0mfunc\u001b[0m\u001b[0;34m)\u001b[0m\u001b[0;34m\u001b[0m\u001b[0;34m\u001b[0m\u001b[0m\n\u001b[0m\u001b[1;32m    209\u001b[0m         \u001b[0;32mif\u001b[0m \u001b[0mcallback\u001b[0m\u001b[0;34m:\u001b[0m\u001b[0;34m\u001b[0m\u001b[0;34m\u001b[0m\u001b[0m\n\u001b[1;32m    210\u001b[0m             \u001b[0mcallback\u001b[0m\u001b[0;34m(\u001b[0m\u001b[0mresult\u001b[0m\u001b[0;34m)\u001b[0m\u001b[0;34m\u001b[0m\u001b[0;34m\u001b[0m\u001b[0m\n",
            "\u001b[0;32m/usr/local/lib/python3.6/dist-packages/joblib/_parallel_backends.py\u001b[0m in \u001b[0;36m__init__\u001b[0;34m(self, batch)\u001b[0m\n\u001b[1;32m    570\u001b[0m         \u001b[0;31m# Don't delay the application, to avoid keeping the input\u001b[0m\u001b[0;34m\u001b[0m\u001b[0;34m\u001b[0m\u001b[0;34m\u001b[0m\u001b[0m\n\u001b[1;32m    571\u001b[0m         \u001b[0;31m# arguments in memory\u001b[0m\u001b[0;34m\u001b[0m\u001b[0;34m\u001b[0m\u001b[0;34m\u001b[0m\u001b[0m\n\u001b[0;32m--> 572\u001b[0;31m         \u001b[0mself\u001b[0m\u001b[0;34m.\u001b[0m\u001b[0mresults\u001b[0m \u001b[0;34m=\u001b[0m \u001b[0mbatch\u001b[0m\u001b[0;34m(\u001b[0m\u001b[0;34m)\u001b[0m\u001b[0;34m\u001b[0m\u001b[0;34m\u001b[0m\u001b[0m\n\u001b[0m\u001b[1;32m    573\u001b[0m \u001b[0;34m\u001b[0m\u001b[0m\n\u001b[1;32m    574\u001b[0m     \u001b[0;32mdef\u001b[0m \u001b[0mget\u001b[0m\u001b[0;34m(\u001b[0m\u001b[0mself\u001b[0m\u001b[0;34m)\u001b[0m\u001b[0;34m:\u001b[0m\u001b[0;34m\u001b[0m\u001b[0;34m\u001b[0m\u001b[0m\n",
            "\u001b[0;32m/usr/local/lib/python3.6/dist-packages/joblib/parallel.py\u001b[0m in \u001b[0;36m__call__\u001b[0;34m(self)\u001b[0m\n\u001b[1;32m    261\u001b[0m         \u001b[0;32mwith\u001b[0m \u001b[0mparallel_backend\u001b[0m\u001b[0;34m(\u001b[0m\u001b[0mself\u001b[0m\u001b[0;34m.\u001b[0m\u001b[0m_backend\u001b[0m\u001b[0;34m,\u001b[0m \u001b[0mn_jobs\u001b[0m\u001b[0;34m=\u001b[0m\u001b[0mself\u001b[0m\u001b[0;34m.\u001b[0m\u001b[0m_n_jobs\u001b[0m\u001b[0;34m)\u001b[0m\u001b[0;34m:\u001b[0m\u001b[0;34m\u001b[0m\u001b[0;34m\u001b[0m\u001b[0m\n\u001b[1;32m    262\u001b[0m             return [func(*args, **kwargs)\n\u001b[0;32m--> 263\u001b[0;31m                     for func, args, kwargs in self.items]\n\u001b[0m\u001b[1;32m    264\u001b[0m \u001b[0;34m\u001b[0m\u001b[0m\n\u001b[1;32m    265\u001b[0m     \u001b[0;32mdef\u001b[0m \u001b[0m__reduce__\u001b[0m\u001b[0;34m(\u001b[0m\u001b[0mself\u001b[0m\u001b[0;34m)\u001b[0m\u001b[0;34m:\u001b[0m\u001b[0;34m\u001b[0m\u001b[0;34m\u001b[0m\u001b[0m\n",
            "\u001b[0;32m/usr/local/lib/python3.6/dist-packages/joblib/parallel.py\u001b[0m in \u001b[0;36m<listcomp>\u001b[0;34m(.0)\u001b[0m\n\u001b[1;32m    261\u001b[0m         \u001b[0;32mwith\u001b[0m \u001b[0mparallel_backend\u001b[0m\u001b[0;34m(\u001b[0m\u001b[0mself\u001b[0m\u001b[0;34m.\u001b[0m\u001b[0m_backend\u001b[0m\u001b[0;34m,\u001b[0m \u001b[0mn_jobs\u001b[0m\u001b[0;34m=\u001b[0m\u001b[0mself\u001b[0m\u001b[0;34m.\u001b[0m\u001b[0m_n_jobs\u001b[0m\u001b[0;34m)\u001b[0m\u001b[0;34m:\u001b[0m\u001b[0;34m\u001b[0m\u001b[0;34m\u001b[0m\u001b[0m\n\u001b[1;32m    262\u001b[0m             return [func(*args, **kwargs)\n\u001b[0;32m--> 263\u001b[0;31m                     for func, args, kwargs in self.items]\n\u001b[0m\u001b[1;32m    264\u001b[0m \u001b[0;34m\u001b[0m\u001b[0m\n\u001b[1;32m    265\u001b[0m     \u001b[0;32mdef\u001b[0m \u001b[0m__reduce__\u001b[0m\u001b[0;34m(\u001b[0m\u001b[0mself\u001b[0m\u001b[0;34m)\u001b[0m\u001b[0;34m:\u001b[0m\u001b[0;34m\u001b[0m\u001b[0;34m\u001b[0m\u001b[0m\n",
            "\u001b[0;32m/usr/local/lib/python3.6/dist-packages/sklearn/multiclass.py\u001b[0m in \u001b[0;36m_fit_binary\u001b[0;34m(estimator, X, y, classes)\u001b[0m\n\u001b[1;32m     77\u001b[0m                 \u001b[0mc\u001b[0m \u001b[0;34m=\u001b[0m \u001b[0;36m0\u001b[0m\u001b[0;34m\u001b[0m\u001b[0;34m\u001b[0m\u001b[0m\n\u001b[1;32m     78\u001b[0m             \u001b[0;32melse\u001b[0m\u001b[0;34m:\u001b[0m\u001b[0;34m\u001b[0m\u001b[0;34m\u001b[0m\u001b[0m\n\u001b[0;32m---> 79\u001b[0;31m                 \u001b[0mc\u001b[0m \u001b[0;34m=\u001b[0m \u001b[0my\u001b[0m\u001b[0;34m[\u001b[0m\u001b[0;36m0\u001b[0m\u001b[0;34m]\u001b[0m\u001b[0;34m\u001b[0m\u001b[0;34m\u001b[0m\u001b[0m\n\u001b[0m\u001b[1;32m     80\u001b[0m             warnings.warn(\"Label %s is present in all training examples.\" %\n\u001b[1;32m     81\u001b[0m                           str(classes[c]))\n",
            "\u001b[0;32m/usr/local/lib/python3.6/dist-packages/sklearn/naive_bayes.py\u001b[0m in \u001b[0;36mfit\u001b[0;34m(self, X, y, sample_weight)\u001b[0m\n\u001b[1;32m    610\u001b[0m         \u001b[0mself\u001b[0m \u001b[0;34m:\u001b[0m \u001b[0mobject\u001b[0m\u001b[0;34m\u001b[0m\u001b[0;34m\u001b[0m\u001b[0m\n\u001b[1;32m    611\u001b[0m         \"\"\"\n\u001b[0;32m--> 612\u001b[0;31m         \u001b[0mX\u001b[0m\u001b[0;34m,\u001b[0m \u001b[0my\u001b[0m \u001b[0;34m=\u001b[0m \u001b[0mself\u001b[0m\u001b[0;34m.\u001b[0m\u001b[0m_check_X_y\u001b[0m\u001b[0;34m(\u001b[0m\u001b[0mX\u001b[0m\u001b[0;34m,\u001b[0m \u001b[0my\u001b[0m\u001b[0;34m)\u001b[0m\u001b[0;34m\u001b[0m\u001b[0;34m\u001b[0m\u001b[0m\n\u001b[0m\u001b[1;32m    613\u001b[0m         \u001b[0m_\u001b[0m\u001b[0;34m,\u001b[0m \u001b[0mn_features\u001b[0m \u001b[0;34m=\u001b[0m \u001b[0mX\u001b[0m\u001b[0;34m.\u001b[0m\u001b[0mshape\u001b[0m\u001b[0;34m\u001b[0m\u001b[0;34m\u001b[0m\u001b[0m\n\u001b[1;32m    614\u001b[0m         \u001b[0mself\u001b[0m\u001b[0;34m.\u001b[0m\u001b[0mn_features_\u001b[0m \u001b[0;34m=\u001b[0m \u001b[0mn_features\u001b[0m\u001b[0;34m\u001b[0m\u001b[0;34m\u001b[0m\u001b[0m\n",
            "\u001b[0;32m/usr/local/lib/python3.6/dist-packages/sklearn/naive_bayes.py\u001b[0m in \u001b[0;36m_check_X_y\u001b[0;34m(self, X, y)\u001b[0m\n\u001b[1;32m    475\u001b[0m \u001b[0;34m\u001b[0m\u001b[0m\n\u001b[1;32m    476\u001b[0m     \u001b[0;32mdef\u001b[0m \u001b[0m_check_X_y\u001b[0m\u001b[0;34m(\u001b[0m\u001b[0mself\u001b[0m\u001b[0;34m,\u001b[0m \u001b[0mX\u001b[0m\u001b[0;34m,\u001b[0m \u001b[0my\u001b[0m\u001b[0;34m)\u001b[0m\u001b[0;34m:\u001b[0m\u001b[0;34m\u001b[0m\u001b[0;34m\u001b[0m\u001b[0m\n\u001b[0;32m--> 477\u001b[0;31m         \u001b[0;32mreturn\u001b[0m \u001b[0mself\u001b[0m\u001b[0;34m.\u001b[0m\u001b[0m_validate_data\u001b[0m\u001b[0;34m(\u001b[0m\u001b[0mX\u001b[0m\u001b[0;34m,\u001b[0m \u001b[0my\u001b[0m\u001b[0;34m,\u001b[0m \u001b[0maccept_sparse\u001b[0m\u001b[0;34m=\u001b[0m\u001b[0;34m'csr'\u001b[0m\u001b[0;34m)\u001b[0m\u001b[0;34m\u001b[0m\u001b[0;34m\u001b[0m\u001b[0m\n\u001b[0m\u001b[1;32m    478\u001b[0m \u001b[0;34m\u001b[0m\u001b[0m\n\u001b[1;32m    479\u001b[0m     \u001b[0;32mdef\u001b[0m \u001b[0m_update_class_log_prior\u001b[0m\u001b[0;34m(\u001b[0m\u001b[0mself\u001b[0m\u001b[0;34m,\u001b[0m \u001b[0mclass_prior\u001b[0m\u001b[0;34m=\u001b[0m\u001b[0;32mNone\u001b[0m\u001b[0;34m)\u001b[0m\u001b[0;34m:\u001b[0m\u001b[0;34m\u001b[0m\u001b[0;34m\u001b[0m\u001b[0m\n",
            "\u001b[0;31mAttributeError\u001b[0m: 'MultinomialNB' object has no attribute '_validate_data'"
          ]
        }
      ]
    },
    {
      "cell_type": "code",
      "metadata": {
        "id": "uwYnuTiWjC1v"
      },
      "source": [
        "import sklearn\r\n",
        "svc = sklearn.svm.SVC()\r\n",
        "from sklearn.metrics import fbeta_score, make_scorer,jaccard_score"
      ],
      "execution_count": null,
      "outputs": []
    },
    {
      "cell_type": "code",
      "metadata": {
        "id": "EYigMM50i5z0"
      },
      "source": [
        "param_grid = {'estimator__C':[1,10,100,1000]\r\n",
        "              }"
      ],
      "execution_count": 69,
      "outputs": []
    },
    {
      "cell_type": "code",
      "metadata": {
        "id": "XJoYfnFETJEL"
      },
      "source": [
        "from sklearn.model_selection import RandomizedSearchCV\r\n",
        "from sklearn.model_selection import GridSearchCV\r\n",
        "from sklearn.model_selection import train_test_split"
      ],
      "execution_count": 84,
      "outputs": []
    },
    {
      "cell_type": "code",
      "metadata": {
        "colab": {
          "base_uri": "https://localhost:8080/"
        },
        "id": "FqYOEkwuRDtp",
        "outputId": "6971ffc4-c1ad-44f3-8bbc-7cabc11e3a17"
      },
      "source": [
        "from sklearn.model_selection import train_test_split\r\n",
        "from sklearn.model_selection import GridSearchCV\r\n",
        "from sklearn.metrics import make_scorer\r\n",
        "svc = OneVsRestClassifier(LinearSVC())\r\n",
        "CV_svc =GridSearchCV(estimator=svc, param_grid=param_grid, cv= 5, verbose=10, scoring=make_scorer(avg_jacard,greater_is_better=True))\r\n",
        "CV_svc.fit(X_train, y_train)"
      ],
      "execution_count": 104,
      "outputs": [
        {
          "output_type": "stream",
          "text": [
            "Fitting 5 folds for each of 4 candidates, totalling 20 fits\n",
            "[CV] estimator__C=1 ..................................................\n"
          ],
          "name": "stdout"
        },
        {
          "output_type": "stream",
          "text": [
            "[Parallel(n_jobs=1)]: Using backend SequentialBackend with 1 concurrent workers.\n"
          ],
          "name": "stderr"
        },
        {
          "output_type": "stream",
          "text": [
            "[CV] ..................... estimator__C=1, score=48.429, total=   0.8s\n",
            "[CV] estimator__C=1 ..................................................\n"
          ],
          "name": "stdout"
        },
        {
          "output_type": "stream",
          "text": [
            "[Parallel(n_jobs=1)]: Done   1 out of   1 | elapsed:    0.8s remaining:    0.0s\n"
          ],
          "name": "stderr"
        },
        {
          "output_type": "stream",
          "text": [
            "[CV] ..................... estimator__C=1, score=43.813, total=   0.8s\n",
            "[CV] estimator__C=1 ..................................................\n"
          ],
          "name": "stdout"
        },
        {
          "output_type": "stream",
          "text": [
            "[Parallel(n_jobs=1)]: Done   2 out of   2 | elapsed:    1.7s remaining:    0.0s\n"
          ],
          "name": "stderr"
        },
        {
          "output_type": "stream",
          "text": [
            "[CV] ..................... estimator__C=1, score=43.213, total=   0.8s\n",
            "[CV] estimator__C=1 ..................................................\n"
          ],
          "name": "stdout"
        },
        {
          "output_type": "stream",
          "text": [
            "[Parallel(n_jobs=1)]: Done   3 out of   3 | elapsed:    2.5s remaining:    0.0s\n"
          ],
          "name": "stderr"
        },
        {
          "output_type": "stream",
          "text": [
            "[CV] ..................... estimator__C=1, score=44.007, total=   0.8s\n",
            "[CV] estimator__C=1 ..................................................\n"
          ],
          "name": "stdout"
        },
        {
          "output_type": "stream",
          "text": [
            "[Parallel(n_jobs=1)]: Done   4 out of   4 | elapsed:    3.3s remaining:    0.0s\n"
          ],
          "name": "stderr"
        },
        {
          "output_type": "stream",
          "text": [
            "[CV] ..................... estimator__C=1, score=45.432, total=   0.8s\n",
            "[CV] estimator__C=10 .................................................\n"
          ],
          "name": "stdout"
        },
        {
          "output_type": "stream",
          "text": [
            "[Parallel(n_jobs=1)]: Done   5 out of   5 | elapsed:    4.2s remaining:    0.0s\n"
          ],
          "name": "stderr"
        },
        {
          "output_type": "stream",
          "text": [
            "[CV] .................... estimator__C=10, score=48.827, total=   1.1s\n",
            "[CV] estimator__C=10 .................................................\n"
          ],
          "name": "stdout"
        },
        {
          "output_type": "stream",
          "text": [
            "[Parallel(n_jobs=1)]: Done   6 out of   6 | elapsed:    5.2s remaining:    0.0s\n"
          ],
          "name": "stderr"
        },
        {
          "output_type": "stream",
          "text": [
            "[CV] .................... estimator__C=10, score=44.369, total=   1.1s\n",
            "[CV] estimator__C=10 .................................................\n"
          ],
          "name": "stdout"
        },
        {
          "output_type": "stream",
          "text": [
            "[Parallel(n_jobs=1)]: Done   7 out of   7 | elapsed:    6.3s remaining:    0.0s\n"
          ],
          "name": "stderr"
        },
        {
          "output_type": "stream",
          "text": [
            "[CV] .................... estimator__C=10, score=43.260, total=   1.1s\n",
            "[CV] estimator__C=10 .................................................\n"
          ],
          "name": "stdout"
        },
        {
          "output_type": "stream",
          "text": [
            "[Parallel(n_jobs=1)]: Done   8 out of   8 | elapsed:    7.4s remaining:    0.0s\n"
          ],
          "name": "stderr"
        },
        {
          "output_type": "stream",
          "text": [
            "[CV] .................... estimator__C=10, score=43.974, total=   1.1s\n",
            "[CV] estimator__C=10 .................................................\n"
          ],
          "name": "stdout"
        },
        {
          "output_type": "stream",
          "text": [
            "[Parallel(n_jobs=1)]: Done   9 out of   9 | elapsed:    8.4s remaining:    0.0s\n"
          ],
          "name": "stderr"
        },
        {
          "output_type": "stream",
          "text": [
            "[CV] .................... estimator__C=10, score=43.529, total=   1.0s\n",
            "[CV] estimator__C=100 ................................................\n",
            "[CV] ................... estimator__C=100, score=48.009, total=   1.2s\n",
            "[CV] estimator__C=100 ................................................\n",
            "[CV] ................... estimator__C=100, score=43.945, total=   1.2s\n",
            "[CV] estimator__C=100 ................................................\n",
            "[CV] ................... estimator__C=100, score=43.446, total=   1.2s\n",
            "[CV] estimator__C=100 ................................................\n",
            "[CV] ................... estimator__C=100, score=43.762, total=   1.2s\n",
            "[CV] estimator__C=100 ................................................\n",
            "[CV] ................... estimator__C=100, score=43.035, total=   1.1s\n",
            "[CV] estimator__C=1000 ...............................................\n",
            "[CV] .................. estimator__C=1000, score=47.880, total=   1.2s\n",
            "[CV] estimator__C=1000 ...............................................\n",
            "[CV] .................. estimator__C=1000, score=44.019, total=   1.2s\n",
            "[CV] estimator__C=1000 ...............................................\n",
            "[CV] .................. estimator__C=1000, score=43.317, total=   1.2s\n",
            "[CV] estimator__C=1000 ...............................................\n",
            "[CV] .................. estimator__C=1000, score=43.679, total=   1.2s\n",
            "[CV] estimator__C=1000 ...............................................\n",
            "[CV] .................. estimator__C=1000, score=42.943, total=   1.2s\n"
          ],
          "name": "stdout"
        },
        {
          "output_type": "stream",
          "text": [
            "[Parallel(n_jobs=1)]: Done  20 out of  20 | elapsed:   21.4s finished\n"
          ],
          "name": "stderr"
        },
        {
          "output_type": "execute_result",
          "data": {
            "text/plain": [
              "GridSearchCV(cv=5, error_score=nan,\n",
              "             estimator=OneVsRestClassifier(estimator=LinearSVC(C=1.0,\n",
              "                                                               class_weight=None,\n",
              "                                                               dual=True,\n",
              "                                                               fit_intercept=True,\n",
              "                                                               intercept_scaling=1,\n",
              "                                                               loss='squared_hinge',\n",
              "                                                               max_iter=1000,\n",
              "                                                               multi_class='ovr',\n",
              "                                                               penalty='l2',\n",
              "                                                               random_state=None,\n",
              "                                                               tol=0.0001,\n",
              "                                                               verbose=0),\n",
              "                                           n_jobs=None),\n",
              "             iid='deprecated', n_jobs=None,\n",
              "             param_grid={'estimator__C': [1, 10, 100, 1000]},\n",
              "             pre_dispatch='2*n_jobs', refit=True, return_train_score=False,\n",
              "             scoring=make_scorer(avg_jacard), verbose=10)"
            ]
          },
          "metadata": {
            "tags": []
          },
          "execution_count": 104
        }
      ]
    },
    {
      "cell_type": "code",
      "metadata": {
        "colab": {
          "base_uri": "https://localhost:8080/"
        },
        "id": "OF-xjcbLRJQJ",
        "outputId": "56ea30f2-1db2-4d4c-97c5-dfd1d68b3545"
      },
      "source": [
        "!pip3 install -U scikit-learn"
      ],
      "execution_count": 87,
      "outputs": [
        {
          "output_type": "stream",
          "text": [
            "Requirement already up-to-date: scikit-learn in /usr/local/lib/python3.6/dist-packages (0.24.1)\n",
            "Requirement already satisfied, skipping upgrade: numpy>=1.13.3 in /usr/local/lib/python3.6/dist-packages (from scikit-learn) (1.19.5)\n",
            "Requirement already satisfied, skipping upgrade: scipy>=0.19.1 in /usr/local/lib/python3.6/dist-packages (from scikit-learn) (1.4.1)\n",
            "Requirement already satisfied, skipping upgrade: joblib>=0.11 in /usr/local/lib/python3.6/dist-packages (from scikit-learn) (1.0.0)\n",
            "Requirement already satisfied, skipping upgrade: threadpoolctl>=2.0.0 in /usr/local/lib/python3.6/dist-packages (from scikit-learn) (2.1.0)\n"
          ],
          "name": "stdout"
        }
      ]
    },
    {
      "cell_type": "code",
      "metadata": {
        "id": "fw4sMFgmSdhu"
      },
      "source": [
        "best_model = CV_svc.best_estimator_"
      ],
      "execution_count": 107,
      "outputs": []
    },
    {
      "cell_type": "code",
      "metadata": {
        "colab": {
          "base_uri": "https://localhost:8080/"
        },
        "id": "9KjueguOrxQw",
        "outputId": "1763ae1b-345b-4369-cfc6-162f2b0b27f3"
      },
      "source": [
        "y_pred = best_model.predict(X_test)\r\n",
        "\r\n",
        "print_score(y_pred, best_model)"
      ],
      "execution_count": 108,
      "outputs": [
        {
          "output_type": "stream",
          "text": [
            "Clf:  OneVsRestClassifier\n",
            "Jacard score: 44.852507374631266\n",
            "Hamming loss: 44.852507374631266\n",
            "---\n"
          ],
          "name": "stdout"
        }
      ]
    },
    {
      "cell_type": "code",
      "metadata": {
        "colab": {
          "base_uri": "https://localhost:8080/"
        },
        "id": "qqIqkesqr0ao",
        "outputId": "5059e078-6163-42d6-8a00-dc3c2291afde"
      },
      "source": [
        "from sklearn.metrics import confusion_matrix\r\n",
        "for i in range(y_train.shape[1]):\r\n",
        "    print(multilabel_binarizer.classes_[i])\r\n",
        "    print(confusion_matrix(y_test[:,i], y_pred[:,i]))\r\n",
        "    print(\"\")\r\n",
        "\r\n"
      ],
      "execution_count": 110,
      "outputs": [
        {
          "output_type": "stream",
          "text": [
            ".net\n",
            "[[966  35]\n",
            " [ 92  37]]\n",
            "\n",
            ".net-3.5\n",
            "[[1124    0]\n",
            " [   6    0]]\n",
            "\n",
            "ajax\n",
            "[[1124    1]\n",
            " [   2    3]]\n",
            "\n",
            "algorithm\n",
            "[[1108    2]\n",
            " [  12    8]]\n",
            "\n",
            "android\n",
            "[[1121    0]\n",
            " [   4    5]]\n",
            "\n",
            "architecture\n",
            "[[1127    0]\n",
            " [   3    0]]\n",
            "\n",
            "arrays\n",
            "[[1120    4]\n",
            " [   3    3]]\n",
            "\n",
            "asp.net\n",
            "[[1081    6]\n",
            " [  21   22]]\n",
            "\n",
            "asp.net-mvc\n",
            "[[1107    0]\n",
            " [   9   14]]\n",
            "\n",
            "bash\n",
            "[[1125    0]\n",
            " [   2    3]]\n",
            "\n",
            "c\n",
            "[[1079    8]\n",
            " [  32   11]]\n",
            "\n",
            "c#\n",
            "[[915  34]\n",
            " [ 99  82]]\n",
            "\n",
            "c++\n",
            "[[1031    6]\n",
            " [  34   59]]\n",
            "\n",
            "cocoa\n",
            "[[1124    0]\n",
            " [   3    3]]\n",
            "\n",
            "cocoa-touch\n",
            "[[1117    1]\n",
            " [   9    3]]\n",
            "\n",
            "coding-style\n",
            "[[1120    0]\n",
            " [  10    0]]\n",
            "\n",
            "command-line\n",
            "[[1123    1]\n",
            " [   6    0]]\n",
            "\n",
            "compiler-construction\n",
            "[[1123    0]\n",
            " [   6    1]]\n",
            "\n",
            "css\n",
            "[[1105    1]\n",
            " [  11   13]]\n",
            "\n",
            "database\n",
            "[[1101    6]\n",
            " [  19    4]]\n",
            "\n",
            "datetime\n",
            "[[1121    0]\n",
            " [   6    3]]\n",
            "\n",
            "debugging\n",
            "[[1120    2]\n",
            " [   6    2]]\n",
            "\n",
            "delphi\n",
            "[[1117    0]\n",
            " [   5    8]]\n",
            "\n",
            "design\n",
            "[[1123    0]\n",
            " [   7    0]]\n",
            "\n",
            "design-patterns\n",
            "[[1121    0]\n",
            " [   8    1]]\n",
            "\n",
            "django\n",
            "[[1109    0]\n",
            " [   3   18]]\n",
            "\n",
            "eclipse\n",
            "[[1115    0]\n",
            " [   8    7]]\n",
            "\n",
            "emacs\n",
            "[[1122    0]\n",
            " [   3    5]]\n",
            "\n",
            "email\n",
            "[[1127    0]\n",
            " [   0    3]]\n",
            "\n",
            "entity-framework\n",
            "[[1128    0]\n",
            " [   0    2]]\n",
            "\n",
            "exception\n",
            "[[1118    1]\n",
            " [   4    7]]\n",
            "\n",
            "file\n",
            "[[1125    0]\n",
            " [   4    1]]\n",
            "\n",
            "firefox\n",
            "[[1125    0]\n",
            " [   1    4]]\n",
            "\n",
            "function\n",
            "[[1122    1]\n",
            " [   7    0]]\n",
            "\n",
            "gcc\n",
            "[[1125    0]\n",
            " [   3    2]]\n",
            "\n",
            "generics\n",
            "[[1122    0]\n",
            " [   2    6]]\n",
            "\n",
            "git\n",
            "[[1120    0]\n",
            " [   1    9]]\n",
            "\n",
            "html\n",
            "[[1094    9]\n",
            " [  16   11]]\n",
            "\n",
            "http\n",
            "[[1118    3]\n",
            " [   7    2]]\n",
            "\n",
            "internet-explorer\n",
            "[[1126    0]\n",
            " [   1    3]]\n",
            "\n",
            "iphone\n",
            "[[1106    0]\n",
            " [  12   12]]\n",
            "\n",
            "java\n",
            "[[1008    7]\n",
            " [  49   66]]\n",
            "\n",
            "javascript\n",
            "[[1060   15]\n",
            " [  19   36]]\n",
            "\n",
            "jquery\n",
            "[[1092    0]\n",
            " [   8   30]]\n",
            "\n",
            "json\n",
            "[[1124    0]\n",
            " [   4    2]]\n",
            "\n",
            "language-agnostic\n",
            "[[1119    0]\n",
            " [  11    0]]\n",
            "\n",
            "linq\n",
            "[[1113    3]\n",
            " [   5    9]]\n",
            "\n",
            "linq-to-sql\n",
            "[[1124    1]\n",
            " [   4    1]]\n",
            "\n",
            "linux\n",
            "[[1111    1]\n",
            " [  11    7]]\n",
            "\n",
            "math\n",
            "[[1119    2]\n",
            " [   9    0]]\n",
            "\n",
            "multithreading\n",
            "[[1106    2]\n",
            " [  12   10]]\n",
            "\n",
            "mysql\n",
            "[[1109    1]\n",
            " [   9   11]]\n",
            "\n",
            "networking\n",
            "[[1122    0]\n",
            " [   7    1]]\n",
            "\n",
            "nhibernate\n",
            "[[1125    0]\n",
            " [   1    4]]\n",
            "\n",
            "objective-c\n",
            "[[1116    3]\n",
            " [   7    4]]\n",
            "\n",
            "oop\n",
            "[[1108    0]\n",
            " [  22    0]]\n",
            "\n",
            "open-source\n",
            "[[1125    0]\n",
            " [   4    1]]\n",
            "\n",
            "optimization\n",
            "[[1125    0]\n",
            " [   5    0]]\n",
            "\n",
            "oracle\n",
            "[[1120    0]\n",
            " [   6    4]]\n",
            "\n",
            "osx\n",
            "[[1124    0]\n",
            " [   3    3]]\n",
            "\n",
            "parsing\n",
            "[[1121    0]\n",
            " [   8    1]]\n",
            "\n",
            "pdf\n",
            "[[1126    0]\n",
            " [   1    3]]\n",
            "\n",
            "performance\n",
            "[[1108    4]\n",
            " [  15    3]]\n",
            "\n",
            "perl\n",
            "[[1118    0]\n",
            " [   4    8]]\n",
            "\n",
            "php\n",
            "[[1081    0]\n",
            " [  19   30]]\n",
            "\n",
            "powershell\n",
            "[[1127    0]\n",
            " [   1    2]]\n",
            "\n",
            "python\n",
            "[[1055    5]\n",
            " [  24   46]]\n",
            "\n",
            "reflection\n",
            "[[1127    0]\n",
            " [   2    1]]\n",
            "\n",
            "regex\n",
            "[[1115    0]\n",
            " [   5   10]]\n",
            "\n",
            "ruby\n",
            "[[1102    2]\n",
            " [   7   19]]\n",
            "\n",
            "ruby-on-rails\n",
            "[[1103    1]\n",
            " [  10   16]]\n",
            "\n",
            "security\n",
            "[[1123    2]\n",
            " [   4    1]]\n",
            "\n",
            "shell\n",
            "[[1124    1]\n",
            " [   5    0]]\n",
            "\n",
            "silverlight\n",
            "[[1121    0]\n",
            " [   4    5]]\n",
            "\n",
            "sockets\n",
            "[[1125    1]\n",
            " [   3    1]]\n",
            "\n",
            "sql\n",
            "[[1076   11]\n",
            " [  28   15]]\n",
            "\n",
            "sql-server\n",
            "[[1086    5]\n",
            " [  18   21]]\n",
            "\n",
            "sql-server-2005\n",
            "[[1119    1]\n",
            " [   7    3]]\n",
            "\n",
            "string\n",
            "[[1113    3]\n",
            " [  11    3]]\n",
            "\n",
            "svn\n",
            "[[1114    0]\n",
            " [   4   12]]\n",
            "\n",
            "syntax\n",
            "[[1120    0]\n",
            " [  10    0]]\n",
            "\n",
            "testing\n",
            "[[1122    1]\n",
            " [   7    0]]\n",
            "\n",
            "tsql\n",
            "[[1117    1]\n",
            " [  10    2]]\n",
            "\n",
            "unit-testing\n",
            "[[1110    1]\n",
            " [   8   11]]\n",
            "\n",
            "unix\n",
            "[[1124    0]\n",
            " [   4    2]]\n",
            "\n",
            "url\n",
            "[[1129    0]\n",
            " [   1    0]]\n",
            "\n",
            "user-interface\n",
            "[[1119    0]\n",
            " [  10    1]]\n",
            "\n",
            "validation\n",
            "[[1121    0]\n",
            " [   5    4]]\n",
            "\n",
            "vb.net\n",
            "[[1118    0]\n",
            " [  11    1]]\n",
            "\n",
            "version-control\n",
            "[[1114    6]\n",
            " [   7    3]]\n",
            "\n",
            "vim\n",
            "[[1124    0]\n",
            " [   4    2]]\n",
            "\n",
            "visual-studio\n",
            "[[1112    4]\n",
            " [   6    8]]\n",
            "\n",
            "visual-studio-2008\n",
            "[[1121    0]\n",
            " [   8    1]]\n",
            "\n",
            "wcf\n",
            "[[1118    0]\n",
            " [   3    9]]\n",
            "\n",
            "web-services\n",
            "[[1125    0]\n",
            " [   5    0]]\n",
            "\n",
            "winapi\n",
            "[[1124    0]\n",
            " [   4    2]]\n",
            "\n",
            "windows\n",
            "[[1095    2]\n",
            " [  24    9]]\n",
            "\n",
            "winforms\n",
            "[[1110    0]\n",
            " [  14    6]]\n",
            "\n",
            "wpf\n",
            "[[1104    0]\n",
            " [  10   16]]\n",
            "\n",
            "xml\n",
            "[[1105    4]\n",
            " [   8   13]]\n",
            "\n"
          ],
          "name": "stdout"
        }
      ]
    },
    {
      "cell_type": "code",
      "metadata": {
        "id": "YXd2Owk_sJlz"
      },
      "source": [
        "def print_top10(feature_names, clf, class_labels):\r\n",
        "    \"\"\"Prints features with the highest coefficient values, per class\"\"\"\r\n",
        "    for i, class_label in enumerate(class_labels):\r\n",
        "        top10 = np.argsort(clf.coef_[i])[-10:]\r\n",
        "        print(\"--------------------------------------------\")\r\n",
        "        print(\"%s: %s\" % (class_label,\r\n",
        "              \" \".join(feature_names[j] for j in top10)))\r\n",
        "        print(\"--------------------------------------------\")"
      ],
      "execution_count": 112,
      "outputs": []
    },
    {
      "cell_type": "code",
      "metadata": {
        "id": "aDzEilF3sdpm"
      },
      "source": [
        "feature_names = vectorizer_X1.get_feature_names() + vectorizer_X2.get_feature_names()"
      ],
      "execution_count": 113,
      "outputs": []
    },
    {
      "cell_type": "code",
      "metadata": {
        "colab": {
          "base_uri": "https://localhost:8080/"
        },
        "id": "Bqoqp1xbsmn9",
        "outputId": "c2912016-629c-4f89-d0c8-c66a3e20a553"
      },
      "source": [
        "print_top10(feature_names, best_model, multilabel_binarizer.classes_)"
      ],
      "execution_count": 114,
      "outputs": [
        {
          "output_type": "stream",
          "text": [
            "--------------------------------------------\n",
            ".net: override drop resolve true ways 12 assembly msbuild .net .net\n",
            "--------------------------------------------\n",
            "--------------------------------------------\n",
            ".net-3.5: hard boolean guide consider hide dependency 35 dictionary asynchronous 35\n",
            "--------------------------------------------\n",
            "--------------------------------------------\n",
            "ajax: page send feel items javascript internet json instantiate ajax ajax\n",
            "--------------------------------------------\n",
            "--------------------------------------------\n",
            "algorithm: implement systems sort people measure analysis filter calculate algorithm algorithm\n",
            "--------------------------------------------\n",
            "--------------------------------------------\n",
            "android: image progress change like switch menu issue root 11 android\n",
            "--------------------------------------------\n",
            "--------------------------------------------\n",
            "architecture: business pattern behind negative csv system architecture approach logic understand\n",
            "--------------------------------------------\n",
            "--------------------------------------------\n",
            "arrays: function pstrongedit sort new template php elements slow true array\n",
            "--------------------------------------------\n",
            "--------------------------------------------\n",
            "asp.net: page asp site whole need iis gridview asp asp.net asp.net\n",
            "--------------------------------------------\n",
            "--------------------------------------------\n",
            "asp.net-mvc: would entity view release controller post asp.net action mvc mvc\n",
            "--------------------------------------------\n",
            "--------------------------------------------\n",
            "bash: unable pipe etc -- quote persistent syntax append export bash\n",
            "--------------------------------------------\n",
            "--------------------------------------------\n",
            "c: standard operator random cp deal struct stack allocate gcc cc\n",
            "--------------------------------------------\n",
            "--------------------------------------------\n",
            "c#: standards byte private extension validate serialize consolewriteline desktop c# c#\n",
            "--------------------------------------------\n",
            "--------------------------------------------\n",
            "c++: headers const stl member boost std std cc c++ c++\n",
            "--------------------------------------------\n",
            "--------------------------------------------\n",
            "cocoa: random delegate person print right array mac dictionary objective-c cocoa\n",
            "--------------------------------------------\n",
            "--------------------------------------------\n",
            "cocoa-touch: iphone yes release easy view animation load nsarray cocoa iphone\n",
            "--------------------------------------------\n",
            "--------------------------------------------\n",
            "coding-style: private clean allocate lead statements condition vector haskell standards cod\n",
            "--------------------------------------------\n",
            "--------------------------------------------\n",
            "command-line: netbeans program full options simple unix command line command command-line\n",
            "--------------------------------------------\n",
            "--------------------------------------------\n",
            "compiler-construction: -- turn benefit course pwhy behavior compile sign compiler compiler\n",
            "--------------------------------------------\n",
            "--------------------------------------------\n",
            "css: appear link table center div image style font css css\n",
            "--------------------------------------------\n",
            "--------------------------------------------\n",
            "database: functional benefit reset condition column databases pedit database database db\n",
            "--------------------------------------------\n",
            "--------------------------------------------\n",
            "datetime: format convert time 12 blockquote approach date datetime wonder datetime\n",
            "--------------------------------------------\n",
            "--------------------------------------------\n",
            "debugging: executable false step execution xcode trace debugger debug debugger debug\n",
            "--------------------------------------------\n",
            "--------------------------------------------\n",
            "delphi: procedure char buffer boolean info var monitor assign delphi delphi\n",
            "--------------------------------------------\n",
            "--------------------------------------------\n",
            "design: large design logic increase simple affect people throw myclass software\n",
            "--------------------------------------------\n",
            "--------------------------------------------\n",
            "design-patterns: modify modal pointers controller separate design keep design pattern pattern\n",
            "--------------------------------------------\n",
            "--------------------------------------------\n",
            "django: idea context template develop profile integration iterate unicode django django\n",
            "--------------------------------------------\n",
            "--------------------------------------------\n",
            "eclipse: start events switch integrate pwhich install jar core eclipse eclipse\n",
            "--------------------------------------------\n",
            "--------------------------------------------\n",
            "emacs: prevent mostly bite wrap automatically font lisp buffer emacs emacs\n",
            "--------------------------------------------\n",
            "--------------------------------------------\n",
            "email: dispose properly field read send receive address mail email email\n",
            "--------------------------------------------\n",
            "--------------------------------------------\n",
            "entity-framework: cannot id part fail configuration entities model entity framework entity\n",
            "--------------------------------------------\n",
            "--------------------------------------------\n",
            "exception: alt throw pin catch exception ignore bean exception exceptions exceptions\n",
            "--------------------------------------------\n",
            "--------------------------------------------\n",
            "file: rename instance lock instead attach standard file fast file directory\n",
            "--------------------------------------------\n",
            "--------------------------------------------\n",
            "firefox: unable autocomplete layout close match mac load cause firefox firefox\n",
            "--------------------------------------------\n",
            "--------------------------------------------\n",
            "function: -gt procedure certain case obtain file advantage pointer function function\n",
            "--------------------------------------------\n",
            "--------------------------------------------\n",
            "gcc: local warn together reference keyword benefit headers optimization gcc gcc\n",
            "--------------------------------------------\n",
            "--------------------------------------------\n",
            "generics: compile jvm codep intgt type slow tgt generic generic generics\n",
            "--------------------------------------------\n",
            "--------------------------------------------\n",
            "git: format version repository local pull branch commit import git git\n",
            "--------------------------------------------\n",
            "--------------------------------------------\n",
            "html: guess also attribute tooltip div browser tag codelt html html\n",
            "--------------------------------------------\n",
            "--------------------------------------------\n",
            "http: debug programmatically reverse remote response connection headers request http http\n",
            "--------------------------------------------\n",
            "--------------------------------------------\n",
            "internet-explorer: security internet limit head jquery ie fine internet explorer ie\n",
            "--------------------------------------------\n",
            "--------------------------------------------\n",
            "iphone: connection nil apple load view color safari init iphone iphone\n",
            "--------------------------------------------\n",
            "--------------------------------------------\n",
            "java: maven hibernate bean jpa swing jvm jsp systemoutprintln java java\n",
            "--------------------------------------------\n",
            "--------------------------------------------\n",
            "javascript: head handler scope iframe jquery container back jquery javascript javascript\n",
            "--------------------------------------------\n",
            "--------------------------------------------\n",
            "jquery: faster precodelt modify null specify element div tdgt jquery jquery\n",
            "--------------------------------------------\n",
            "--------------------------------------------\n",
            "json: submit scope items parse return wcf problems null json json\n",
            "--------------------------------------------\n",
            "--------------------------------------------\n",
            "language-agnostic: login word book whether combine variables consider measure software tutorials\n",
            "--------------------------------------------\n",
            "--------------------------------------------\n",
            "linq: perform default con cannot result orm dropdownlist sum linq linq\n",
            "--------------------------------------------\n",
            "--------------------------------------------\n",
            "linq-to-sql: project entity var anonymous result architecture record sql linq linq\n",
            "--------------------------------------------\n",
            "--------------------------------------------\n",
            "linux: send fail sort every directory trick execute might linux linux\n",
            "--------------------------------------------\n",
            "--------------------------------------------\n",
            "math: second operation find sample vector result matrix compute rotate math\n",
            "--------------------------------------------\n",
            "--------------------------------------------\n",
            "multithreading: keyword pattern never win32 take sender synchronize lock thread thread\n",
            "--------------------------------------------\n",
            "--------------------------------------------\n",
            "mysql: varchar apps day row zend default php db mysql mysql\n",
            "--------------------------------------------\n",
            "--------------------------------------------\n",
            "networking: port exceptions remote id already show address network vs network\n",
            "--------------------------------------------\n",
            "--------------------------------------------\n",
            "nhibernate: public fluent track attribute world back roll orm embed nhibernate\n",
            "--------------------------------------------\n",
            "--------------------------------------------\n",
            "objective-c: release xcode delegate self nil init nsarray iphone cocoa objective-c\n",
            "--------------------------------------------\n",
            "--------------------------------------------\n",
            "oop: keep init use ones object contract member partial variables pli\n",
            "--------------------------------------------\n",
            "--------------------------------------------\n",
            "open-source: replacement open etc generator ide flash libraries mono open source\n",
            "--------------------------------------------\n",
            "--------------------------------------------\n",
            "optimization: option dom vector site improve faster benefit optimize optimization speed\n",
            "--------------------------------------------\n",
            "--------------------------------------------\n",
            "oracle: check query handler old debug pto two alternatives oracle oracle\n",
            "--------------------------------------------\n",
            "--------------------------------------------\n",
            "osx: prefix might mercurial programatically share os os xcode mac mac\n",
            "--------------------------------------------\n",
            "--------------------------------------------\n",
            "parsing: parse switch csv int trim pthen main dynamic parse parser\n",
            "--------------------------------------------\n",
            "--------------------------------------------\n",
            "pdf: render add solution appropriate xml conversion list google pdf pdf\n",
            "--------------------------------------------\n",
            "--------------------------------------------\n",
            "performance: versions io enough equal memory faster slow performance performance speed\n",
            "--------------------------------------------\n",
            "--------------------------------------------\n",
            "perl: -- different lead module install email worth codepre perl perl\n",
            "--------------------------------------------\n",
            "--------------------------------------------\n",
            "php: resize construct empty warn precodeif echo curl zend php php\n",
            "--------------------------------------------\n",
            "--------------------------------------------\n",
            "powershell: development structure character programatically certificate could download 10 10 powershell\n",
            "--------------------------------------------\n",
            "--------------------------------------------\n",
            "python: django print maybe import partial def self django python python\n",
            "--------------------------------------------\n",
            "--------------------------------------------\n",
            "reflection: modify exclude type parameters generic know stack instance invoke reflection\n",
            "--------------------------------------------\n",
            "--------------------------------------------\n",
            "regex: false 11 extract expressions match regular regular expression regex regex\n",
            "--------------------------------------------\n",
            "--------------------------------------------\n",
            "ruby: generate connect rail end company rspec rail helpers ruby ruby\n",
            "--------------------------------------------\n",
            "--------------------------------------------\n",
            "ruby-on-rails: model useful nest connect controller company helpers rspec rail rail\n",
            "--------------------------------------------\n",
            "--------------------------------------------\n",
            "security: prevent understand encrypt account password injection credentials secure safe security\n",
            "--------------------------------------------\n",
            "--------------------------------------------\n",
            "shell: quote absolute command command-line easily local unix shell bash shell\n",
            "--------------------------------------------\n",
            "--------------------------------------------\n",
            "silverlight: return tutorials extra frameworks elements help help flash mvvm silverlight\n",
            "--------------------------------------------\n",
            "--------------------------------------------\n",
            "sockets: amp send port set pare sockets ip connections socket socket\n",
            "--------------------------------------------\n",
            "--------------------------------------------\n",
            "sql: oracle simplest precodeselect benefit items join store ms sql sql\n",
            "--------------------------------------------\n",
            "--------------------------------------------\n",
            "sql-server: create wonder sql database transaction person t-sql 2005 sql server\n",
            "--------------------------------------------\n",
            "--------------------------------------------\n",
            "sql-server-2005: sql id xml appropriate procedure statement date report 2005 2005\n",
            "--------------------------------------------\n",
            "--------------------------------------------\n",
            "string: search resource li phow double way efficient reverse string string\n",
            "--------------------------------------------\n",
            "--------------------------------------------\n",
            "svn: developers project stop repository revision tortoisesvn svn subversion subversion svn\n",
            "--------------------------------------------\n",
            "--------------------------------------------\n",
            "syntax: query strong quote follow mean variable assign data double anonymous\n",
            "--------------------------------------------\n",
            "--------------------------------------------\n",
            "testing: good module site package time exist keep share test test\n",
            "--------------------------------------------\n",
            "--------------------------------------------\n",
            "tsql: operation errors deal date select procedure way 12 procedures t-sql\n",
            "--------------------------------------------\n",
            "--------------------------------------------\n",
            "unit-testing: currently vb.net world unit nunit company unit test test mock\n",
            "--------------------------------------------\n",
            "--------------------------------------------\n",
            "unix: login current multiple syntax command-line thisp find hello command unix\n",
            "--------------------------------------------\n",
            "--------------------------------------------\n",
            "url: android ways external resources variables protocol action url url urls\n",
            "--------------------------------------------\n",
            "--------------------------------------------\n",
            "user-interface: button integers form tab achieve gui label pli ui gui\n",
            "--------------------------------------------\n",
            "--------------------------------------------\n",
            "validation: form hard valid valid recognition cdata accept validate validation validation\n",
            "--------------------------------------------\n",
            "--------------------------------------------\n",
            "vb.net: cast hard new clean dialog difference end examples sign vb.net\n",
            "--------------------------------------------\n",
            "--------------------------------------------\n",
            "version-control: hear accept git check version history git svn control branch\n",
            "--------------------------------------------\n",
            "--------------------------------------------\n",
            "vim: emacs enough mode insert block stack configure define editor vim\n",
            "--------------------------------------------\n",
            "--------------------------------------------\n",
            "visual-studio: headers possible solution resource c# version visual visual studio studio\n",
            "--------------------------------------------\n",
            "--------------------------------------------\n",
            "visual-studio-2008: vs appconfig studio standards visual option null 2008 2008 vs2008\n",
            "--------------------------------------------\n",
            "--------------------------------------------\n",
            "wcf: ajax without client location store service certificate host wcf wcf\n",
            "--------------------------------------------\n",
            "--------------------------------------------\n",
            "web-services: big advantage find service webservice web connect mock web service\n",
            "--------------------------------------------\n",
            "--------------------------------------------\n",
            "winapi: exe cursor 0000000000000000 associate filename executable delphi windows api win32\n",
            "--------------------------------------------\n",
            "--------------------------------------------\n",
            "windows: position see built-in small location drive query settings windows windows\n",
            "--------------------------------------------\n",
            "--------------------------------------------\n",
            "winforms: form either control show separate app event form winforms winforms\n",
            "--------------------------------------------\n",
            "--------------------------------------------\n",
            "wpf: change apply bind mvvm trim xaml property bind wpf wpf\n",
            "--------------------------------------------\n",
            "--------------------------------------------\n",
            "xml: element precodelt mock loop report entities xpath xslt xml xml\n",
            "--------------------------------------------\n"
          ],
          "name": "stdout"
        }
      ]
    },
    {
      "cell_type": "code",
      "metadata": {
        "id": "_Jhcql96sp6z"
      },
      "source": [
        ""
      ],
      "execution_count": null,
      "outputs": []
    }
  ]
}